{
 "cells": [
  {
   "cell_type": "code",
   "execution_count": 2,
   "metadata": {
    "collapsed": true
   },
   "outputs": [],
   "source": [
    "import numpy as np\n",
    "import polars as pl"
   ]
  },
  {
   "cell_type": "code",
   "execution_count": 3,
   "outputs": [
    {
     "name": "stdout",
     "output_type": "stream",
     "text": [
      "CPU times: user 4.39 s, sys: 1.91 s, total: 6.3 s\n",
      "Wall time: 1.34 s\n"
     ]
    }
   ],
   "source": [
    "%%time\n",
    "df = pl.read_csv(\"/Users/sonle/Documents/Data/delivery_orders_march.csv\")\n"
   ],
   "metadata": {
    "collapsed": false
   }
  },
  {
   "cell_type": "code",
   "execution_count": 4,
   "outputs": [
    {
     "name": "stdout",
     "output_type": "stream",
     "text": [
      "{'metro manila': 0, 'luzon': 1, 'visayas': 2, 'mindanao': 3}\n",
      "{'anila': 0, 'luzon': 1, 'sayas': 2, 'danao': 3}\n"
     ]
    }
   ],
   "source": [
    "WORKDAYS = '1111110'\n",
    "HOLIDAYS = ['2020-03-08','2020-03-25', '2020-03-30', '2020-03-31']\n",
    "\n",
    "GMT8_OFFSET = 3600 * 8\n",
    "DURATION_1DAY = 3600 * 24\n",
    "\n",
    "sla_matrix_1st_attempt = [\n",
    "\t[3, 5, 7, 7],\n",
    "\t[5, 5, 7, 7],\n",
    "\t[7, 7, 7, 7],\n",
    "\t[7, 7, 7, 7]\n",
    "]\n",
    "\n",
    "sla_matrix_2nd_attempt =[\n",
    "\t[3, 3, 3, 3],\n",
    "\t[3, 3, 3, 3],\n",
    "\t[3, 3, 3, 3],\n",
    "\t[3, 3, 3, 3]\n",
    "]\n",
    "locations = [\"Metro Manila\", \"Luzon\", \"Visayas\", \"Mindanao\"]\n",
    "locations = [loc.lower() for loc in locations]\n",
    "location_to_index = {loc: i for i, loc in enumerate(locations)}\n",
    "print(location_to_index)\n",
    "\n",
    "min_length = min(map(len, locations))\n",
    "trunc_location_to_index = {loc[-min_length:]: i for i, loc in enumerate(locations)}\n",
    "print(trunc_location_to_index)\n",
    "map_to_dict = dict(enumerate(np.array(sla_matrix_1st_attempt).flatten()))"
   ],
   "metadata": {
    "collapsed": false
   }
  },
  {
   "cell_type": "code",
   "execution_count": 6,
   "outputs": [
    {
     "name": "stdout",
     "output_type": "stream",
     "text": [
      "shape: (3176313, 6)\n",
      "┌────────────────┬────────────┬─────────────────┬────────────────┬────────────────┬────────────────┐\n",
      "│ orderid        ┆ pick       ┆ 1st_deliver_att ┆ 2nd_deliver_at ┆ buyeraddress   ┆ selleraddress  │\n",
      "│ ---            ┆ ---        ┆ empt            ┆ tempt          ┆ ---            ┆ ---            │\n",
      "│ i64            ┆ i64        ┆ ---             ┆ ---            ┆ str            ┆ str            │\n",
      "│                ┆            ┆ f64             ┆ f64            ┆                ┆                │\n",
      "╞════════════════╪════════════╪═════════════════╪════════════════╪════════════════╪════════════════╡\n",
      "│ 2215676524     ┆ 1583138397 ┆ 1.5834e9        ┆ null           ┆ Baging ldl BUE ┆ Pantranco      │\n",
      "│                ┆            ┆                 ┆                ┆ NAVISTA,PATAG. ┆ vill. 417      │\n",
      "│                ┆            ┆                 ┆                ┆ CAGA...        ┆ Warehouse#     │\n",
      "│                ┆            ┆                 ┆                ┆                ┆ k...           │\n",
      "├╌╌╌╌╌╌╌╌╌╌╌╌╌╌╌╌┼╌╌╌╌╌╌╌╌╌╌╌╌┼╌╌╌╌╌╌╌╌╌╌╌╌╌╌╌╌╌┼╌╌╌╌╌╌╌╌╌╌╌╌╌╌╌╌┼╌╌╌╌╌╌╌╌╌╌╌╌╌╌╌╌┼╌╌╌╌╌╌╌╌╌╌╌╌╌╌╌╌┤\n",
      "│ 2219624609     ┆ 1583309968 ┆ 1.5835e9        ┆ 1.5838e9       ┆ coloma's quzom ┆ BLDG 210A      │\n",
      "│                ┆            ┆                 ┆                ┆ CASANAS Site1  ┆ Moras C42B     │\n",
      "│                ┆            ┆                 ┆                ┆ Mas...         ┆ 2B16,168 ch... │\n",
      "├╌╌╌╌╌╌╌╌╌╌╌╌╌╌╌╌┼╌╌╌╌╌╌╌╌╌╌╌╌┼╌╌╌╌╌╌╌╌╌╌╌╌╌╌╌╌╌┼╌╌╌╌╌╌╌╌╌╌╌╌╌╌╌╌┼╌╌╌╌╌╌╌╌╌╌╌╌╌╌╌╌┼╌╌╌╌╌╌╌╌╌╌╌╌╌╌╌╌┤\n",
      "│ 2220979489     ┆ 1583306434 ┆ 1.5835e9        ┆ null           ┆ 21-O LumangDaa ┆ #66 150-C,     │\n",
      "│                ┆            ┆                 ┆                ┆ n,Capitangan,A ┆ DRIVE,         │\n",
      "│                ┆            ┆                 ┆                ┆ buca...        ┆ Milagros Joe   │\n",
      "│                ┆            ┆                 ┆                ┆                ┆ s...           │\n",
      "├╌╌╌╌╌╌╌╌╌╌╌╌╌╌╌╌┼╌╌╌╌╌╌╌╌╌╌╌╌┼╌╌╌╌╌╌╌╌╌╌╌╌╌╌╌╌╌┼╌╌╌╌╌╌╌╌╌╌╌╌╌╌╌╌┼╌╌╌╌╌╌╌╌╌╌╌╌╌╌╌╌┼╌╌╌╌╌╌╌╌╌╌╌╌╌╌╌╌┤\n",
      "│ 2221066352     ┆ 1583419016 ┆ 1.5836e9        ┆ null           ┆ 616Espiritu    ┆ 999maII 201,26 │\n",
      "│                ┆            ┆                 ┆                ┆ MARTINVILLE,MA ┆ Villaruel      │\n",
      "│                ┆            ┆                 ┆                ┆ NUYO #...      ┆ Barrett...     │\n",
      "├╌╌╌╌╌╌╌╌╌╌╌╌╌╌╌╌┼╌╌╌╌╌╌╌╌╌╌╌╌┼╌╌╌╌╌╌╌╌╌╌╌╌╌╌╌╌╌┼╌╌╌╌╌╌╌╌╌╌╌╌╌╌╌╌┼╌╌╌╌╌╌╌╌╌╌╌╌╌╌╌╌┼╌╌╌╌╌╌╌╌╌╌╌╌╌╌╌╌┤\n",
      "│ ...            ┆ ...        ┆ ...             ┆ ...            ┆ ...            ┆ ...            │\n",
      "├╌╌╌╌╌╌╌╌╌╌╌╌╌╌╌╌┼╌╌╌╌╌╌╌╌╌╌╌╌┼╌╌╌╌╌╌╌╌╌╌╌╌╌╌╌╌╌┼╌╌╌╌╌╌╌╌╌╌╌╌╌╌╌╌┼╌╌╌╌╌╌╌╌╌╌╌╌╌╌╌╌┼╌╌╌╌╌╌╌╌╌╌╌╌╌╌╌╌┤\n",
      "│ 31504147352227 ┆ 1585895011 ┆ 1.5862e9        ┆ 1.5862e9       ┆ Superdome      ┆ 13th 3616      │\n",
      "│                ┆            ┆                 ┆                ┆ PORKY K307     ┆ Pilipinas,     │\n",
      "│                ┆            ┆                 ┆                ┆ Libertad, P... ┆ :1v26 1f-5 ... │\n",
      "├╌╌╌╌╌╌╌╌╌╌╌╌╌╌╌╌┼╌╌╌╌╌╌╌╌╌╌╌╌┼╌╌╌╌╌╌╌╌╌╌╌╌╌╌╌╌╌┼╌╌╌╌╌╌╌╌╌╌╌╌╌╌╌╌┼╌╌╌╌╌╌╌╌╌╌╌╌╌╌╌╌┼╌╌╌╌╌╌╌╌╌╌╌╌╌╌╌╌┤\n",
      "│ 31504462290482 ┆ 1585826951 ┆ 1.5860e9        ┆ null           ┆ Galay's        ┆ Lane, 379B     │\n",
      "│                ┆            ┆                 ┆                ┆ 1republic      ┆ 1739A Ivc      │\n",
      "│                ┆            ┆                 ┆                ┆ 333-18         ┆ AFPFC Caint... │\n",
      "│                ┆            ┆                 ┆                ┆ Diliman...     ┆                │\n",
      "├╌╌╌╌╌╌╌╌╌╌╌╌╌╌╌╌┼╌╌╌╌╌╌╌╌╌╌╌╌┼╌╌╌╌╌╌╌╌╌╌╌╌╌╌╌╌╌┼╌╌╌╌╌╌╌╌╌╌╌╌╌╌╌╌┼╌╌╌╌╌╌╌╌╌╌╌╌╌╌╌╌┼╌╌╌╌╌╌╌╌╌╌╌╌╌╌╌╌┤\n",
      "│ 31504851495943 ┆ 1585891194 ┆ 1.5862e9        ┆ null           ┆ #4560, 80south ┆ lrt-2          │\n",
      "│                ┆            ┆                 ┆                ┆ biloca vi!!age ┆ Consolacion    │\n",
      "│                ┆            ┆                 ┆                ┆ KM...          ┆ 224-A          │\n",
      "│                ┆            ┆                 ┆                ┆                ┆ Paradise...    │\n",
      "├╌╌╌╌╌╌╌╌╌╌╌╌╌╌╌╌┼╌╌╌╌╌╌╌╌╌╌╌╌┼╌╌╌╌╌╌╌╌╌╌╌╌╌╌╌╌╌┼╌╌╌╌╌╌╌╌╌╌╌╌╌╌╌╌┼╌╌╌╌╌╌╌╌╌╌╌╌╌╌╌╌┼╌╌╌╌╌╌╌╌╌╌╌╌╌╌╌╌┤\n",
      "│ 31505199116340 ┆ 1585823923 ┆ 1.5862e9        ┆ 1.5862e9       ┆ b4l13 TOLDA    ┆ (Jeepney       │\n",
      "│                ┆            ┆                 ┆                ┆ 792-A-5-A      ┆ Kaligayan      │\n",
      "│                ┆            ┆                 ┆                ┆ east...nea...  ┆ VANVAN Salud   │\n",
      "│                ┆            ┆                 ┆                ┆                ┆ ...            │\n",
      "└────────────────┴────────────┴─────────────────┴────────────────┴────────────────┴────────────────┘\n"
     ]
    }
   ],
   "source": [
    "print(df)"
   ],
   "metadata": {
    "collapsed": false
   }
  },
  {
   "cell_type": "code",
   "execution_count": 32,
   "outputs": [
    {
     "name": "stdout",
     "output_type": "stream",
     "text": [
      "CPU times: user 2.13 s, sys: 17.7 ms, total: 2.15 s\n",
      "Wall time: 2.17 s\n"
     ]
    },
    {
     "data": {
      "text/plain": "shape: (3176313, 6)\n┌────────────────┬────────────┬──────────────────┬─────────────────┬─────────────────┬─────────────┐\n│ orderid        ┆ pick       ┆ 1st_deliver_atte ┆ 2nd_deliver_att ┆ selleraddress   ┆ buyer_index │\n│ ---            ┆ ---        ┆ mpt              ┆ empt            ┆ ---             ┆ ---         │\n│ i64            ┆ i64        ┆ ---              ┆ ---             ┆ str             ┆ i32         │\n│                ┆            ┆ f64              ┆ f64             ┆                 ┆             │\n╞════════════════╪════════════╪══════════════════╪═════════════════╪═════════════════╪═════════════╡\n│ 2215676524     ┆ 1583138397 ┆ 1.5834e9         ┆ null            ┆ Pantranco vill. ┆ 0           │\n│                ┆            ┆                  ┆                 ┆ 417 Warehouse#  ┆             │\n│                ┆            ┆                  ┆                 ┆ k...            ┆             │\n├╌╌╌╌╌╌╌╌╌╌╌╌╌╌╌╌┼╌╌╌╌╌╌╌╌╌╌╌╌┼╌╌╌╌╌╌╌╌╌╌╌╌╌╌╌╌╌╌┼╌╌╌╌╌╌╌╌╌╌╌╌╌╌╌╌╌┼╌╌╌╌╌╌╌╌╌╌╌╌╌╌╌╌╌┼╌╌╌╌╌╌╌╌╌╌╌╌╌┤\n│ 2219624609     ┆ 1583309968 ┆ 1.5835e9         ┆ 1.5838e9        ┆ BLDG 210A Moras ┆ 0           │\n│                ┆            ┆                  ┆                 ┆ C42B 2B16,168   ┆             │\n│                ┆            ┆                  ┆                 ┆ ch...           ┆             │\n├╌╌╌╌╌╌╌╌╌╌╌╌╌╌╌╌┼╌╌╌╌╌╌╌╌╌╌╌╌┼╌╌╌╌╌╌╌╌╌╌╌╌╌╌╌╌╌╌┼╌╌╌╌╌╌╌╌╌╌╌╌╌╌╌╌╌┼╌╌╌╌╌╌╌╌╌╌╌╌╌╌╌╌╌┼╌╌╌╌╌╌╌╌╌╌╌╌╌┤\n│ 2220979489     ┆ 1583306434 ┆ 1.5835e9         ┆ null            ┆ #66 150-C,      ┆ 0           │\n│                ┆            ┆                  ┆                 ┆ DRIVE, Milagros ┆             │\n│                ┆            ┆                  ┆                 ┆ Joe s...        ┆             │\n├╌╌╌╌╌╌╌╌╌╌╌╌╌╌╌╌┼╌╌╌╌╌╌╌╌╌╌╌╌┼╌╌╌╌╌╌╌╌╌╌╌╌╌╌╌╌╌╌┼╌╌╌╌╌╌╌╌╌╌╌╌╌╌╌╌╌┼╌╌╌╌╌╌╌╌╌╌╌╌╌╌╌╌╌┼╌╌╌╌╌╌╌╌╌╌╌╌╌┤\n│ 2221066352     ┆ 1583419016 ┆ 1.5836e9         ┆ null            ┆ 999maII 201,26  ┆ 3           │\n│                ┆            ┆                  ┆                 ┆ Villaruel       ┆             │\n│                ┆            ┆                  ┆                 ┆ Barrett...      ┆             │\n├╌╌╌╌╌╌╌╌╌╌╌╌╌╌╌╌┼╌╌╌╌╌╌╌╌╌╌╌╌┼╌╌╌╌╌╌╌╌╌╌╌╌╌╌╌╌╌╌┼╌╌╌╌╌╌╌╌╌╌╌╌╌╌╌╌╌┼╌╌╌╌╌╌╌╌╌╌╌╌╌╌╌╌╌┼╌╌╌╌╌╌╌╌╌╌╌╌╌┤\n│ ...            ┆ ...        ┆ ...              ┆ ...             ┆ ...             ┆ ...         │\n├╌╌╌╌╌╌╌╌╌╌╌╌╌╌╌╌┼╌╌╌╌╌╌╌╌╌╌╌╌┼╌╌╌╌╌╌╌╌╌╌╌╌╌╌╌╌╌╌┼╌╌╌╌╌╌╌╌╌╌╌╌╌╌╌╌╌┼╌╌╌╌╌╌╌╌╌╌╌╌╌╌╌╌╌┼╌╌╌╌╌╌╌╌╌╌╌╌╌┤\n│ 31504147352227 ┆ 1585895011 ┆ 1.5862e9         ┆ 1.5862e9        ┆ 13th 3616       ┆ 0           │\n│                ┆            ┆                  ┆                 ┆ Pilipinas,      ┆             │\n│                ┆            ┆                  ┆                 ┆ :1v26 1f-5 ...  ┆             │\n├╌╌╌╌╌╌╌╌╌╌╌╌╌╌╌╌┼╌╌╌╌╌╌╌╌╌╌╌╌┼╌╌╌╌╌╌╌╌╌╌╌╌╌╌╌╌╌╌┼╌╌╌╌╌╌╌╌╌╌╌╌╌╌╌╌╌┼╌╌╌╌╌╌╌╌╌╌╌╌╌╌╌╌╌┼╌╌╌╌╌╌╌╌╌╌╌╌╌┤\n│ 31504462290482 ┆ 1585826951 ┆ 1.5860e9         ┆ null            ┆ Lane, 379B      ┆ 0           │\n│                ┆            ┆                  ┆                 ┆ 1739A Ivc AFPFC ┆             │\n│                ┆            ┆                  ┆                 ┆ Caint...        ┆             │\n├╌╌╌╌╌╌╌╌╌╌╌╌╌╌╌╌┼╌╌╌╌╌╌╌╌╌╌╌╌┼╌╌╌╌╌╌╌╌╌╌╌╌╌╌╌╌╌╌┼╌╌╌╌╌╌╌╌╌╌╌╌╌╌╌╌╌┼╌╌╌╌╌╌╌╌╌╌╌╌╌╌╌╌╌┼╌╌╌╌╌╌╌╌╌╌╌╌╌┤\n│ 31504851495943 ┆ 1585891194 ┆ 1.5862e9         ┆ null            ┆ lrt-2           ┆ 1           │\n│                ┆            ┆                  ┆                 ┆ Consolacion     ┆             │\n│                ┆            ┆                  ┆                 ┆ 224-A           ┆             │\n│                ┆            ┆                  ┆                 ┆ Paradise...     ┆             │\n├╌╌╌╌╌╌╌╌╌╌╌╌╌╌╌╌┼╌╌╌╌╌╌╌╌╌╌╌╌┼╌╌╌╌╌╌╌╌╌╌╌╌╌╌╌╌╌╌┼╌╌╌╌╌╌╌╌╌╌╌╌╌╌╌╌╌┼╌╌╌╌╌╌╌╌╌╌╌╌╌╌╌╌╌┼╌╌╌╌╌╌╌╌╌╌╌╌╌┤\n│ 31505199116340 ┆ 1585823923 ┆ 1.5862e9         ┆ 1.5862e9        ┆ (Jeepney        ┆ 1           │\n│                ┆            ┆                  ┆                 ┆ Kaligayan       ┆             │\n│                ┆            ┆                  ┆                 ┆ VANVAN Salud    ┆             │\n│                ┆            ┆                  ┆                 ┆ ...             ┆             │\n└────────────────┴────────────┴──────────────────┴─────────────────┴─────────────────┴─────────────┘",
      "text/html": "<div>\n<style scoped>\n    .dataframe tbody tr th:only-of-type {\n        vertical-align: middle;\n    }\n\n    .dataframe tbody tr th {\n        vertical-align: top;\n    }\n\n    .dataframe thead th {\n        text-align: right;\n    }\n\n    .dataframe td {\n        white-space: pre;\n    }\n\n    .dataframe td {\n        padding-top: 0;\n    }\n\n    .dataframe td {\n        padding-bottom: 0;\n    }\n\n    .dataframe td {\n        line-height: 95%;\n    }\n</style>\n<table border=\"1\" class=\"dataframe\" >\n<small>shape: (3176313, 6)</small>\n<thead>\n<tr>\n<th>\norderid\n</th>\n<th>\npick\n</th>\n<th>\n1st_deliver_attempt\n</th>\n<th>\n2nd_deliver_attempt\n</th>\n<th>\nselleraddress\n</th>\n<th>\nbuyer_index\n</th>\n</tr>\n<tr>\n<td>\ni64\n</td>\n<td>\ni64\n</td>\n<td>\nf64\n</td>\n<td>\nf64\n</td>\n<td>\nstr\n</td>\n<td>\ni32\n</td>\n</tr>\n</thead>\n<tbody>\n<tr>\n<td>\n2215676524\n</td>\n<td>\n1583138397\n</td>\n<td>\n1.5834e9\n</td>\n<td>\nnull\n</td>\n<td>\n&quot;Pantranco vill...\n</td>\n<td>\n0\n</td>\n</tr>\n<tr>\n<td>\n2219624609\n</td>\n<td>\n1583309968\n</td>\n<td>\n1.5835e9\n</td>\n<td>\n1.5838e9\n</td>\n<td>\n&quot;BLDG 210A Mora...\n</td>\n<td>\n0\n</td>\n</tr>\n<tr>\n<td>\n2220979489\n</td>\n<td>\n1583306434\n</td>\n<td>\n1.5835e9\n</td>\n<td>\nnull\n</td>\n<td>\n&quot;#66 150-C, DRI...\n</td>\n<td>\n0\n</td>\n</tr>\n<tr>\n<td>\n2221066352\n</td>\n<td>\n1583419016\n</td>\n<td>\n1.5836e9\n</td>\n<td>\nnull\n</td>\n<td>\n&quot;999maII 201,26...\n</td>\n<td>\n3\n</td>\n</tr>\n<tr>\n<td>\n2222478803\n</td>\n<td>\n1583318305\n</td>\n<td>\n1.5835e9\n</td>\n<td>\nnull\n</td>\n<td>\n&quot;G66MANILA Hiya...\n</td>\n<td>\n1\n</td>\n</tr>\n<tr>\n<td>\n2222597288\n</td>\n<td>\n1583328320\n</td>\n<td>\n1.5836e9\n</td>\n<td>\nnull\n</td>\n<td>\n&quot;33 sta.mesa 19...\n</td>\n<td>\n0\n</td>\n</tr>\n<tr>\n<td>\n2222738456\n</td>\n<td>\n1583148712\n</td>\n<td>\n1.5834e9\n</td>\n<td>\n1.5837e9\n</td>\n<td>\n&quot;salcedo Midlan...\n</td>\n<td>\n0\n</td>\n</tr>\n<tr>\n<td>\n2224695304\n</td>\n<td>\n1583127841\n</td>\n<td>\n1.5838e9\n</td>\n<td>\nnull\n</td>\n<td>\n&quot;Polar 75 mulaw...\n</td>\n<td>\n0\n</td>\n</tr>\n<tr>\n<td>\n2224704587\n</td>\n<td>\n1583307779\n</td>\n<td>\n1.5834e9\n</td>\n<td>\n1.5837e9\n</td>\n<td>\n&quot;skies dept. Cr...\n</td>\n<td>\n1\n</td>\n</tr>\n<tr>\n<td>\n2225138267\n</td>\n<td>\n1583336611\n</td>\n<td>\n1.5838e9\n</td>\n<td>\nnull\n</td>\n<td>\n&quot;9x Comfort Gre...\n</td>\n<td>\n2\n</td>\n</tr>\n<tr>\n<td>\n2225861241\n</td>\n<td>\n1583575053\n</td>\n<td>\n1.5838e9\n</td>\n<td>\nnull\n</td>\n<td>\n&quot;1.soler Fair, ...\n</td>\n<td>\n0\n</td>\n</tr>\n<tr>\n<td>\n2226935316\n</td>\n<td>\n1583133354\n</td>\n<td>\n1.5834e9\n</td>\n<td>\nnull\n</td>\n<td>\n&quot;008 287,Binond...\n</td>\n<td>\n1\n</td>\n</tr>\n<tr>\n<td>\n...\n</td>\n<td>\n...\n</td>\n<td>\n...\n</td>\n<td>\n...\n</td>\n<td>\n...\n</td>\n<td>\n...\n</td>\n</tr>\n<tr>\n<td>\n31501334465889\n</td>\n<td>\n1585812514\n</td>\n<td>\n1.5860e9\n</td>\n<td>\nnull\n</td>\n<td>\n&quot;Ongpin, LRT.S-...\n</td>\n<td>\n3\n</td>\n</tr>\n<tr>\n<td>\n31501424794332\n</td>\n<td>\n1585808204\n</td>\n<td>\n1.5861e9\n</td>\n<td>\nnull\n</td>\n<td>\n&quot;1572 91.east.1...\n</td>\n<td>\n2\n</td>\n</tr>\n<tr>\n<td>\n31501457052965\n</td>\n<td>\n1585893900\n</td>\n<td>\n1.5862e9\n</td>\n<td>\nnull\n</td>\n<td>\n&quot;Antonio Meñez ...\n</td>\n<td>\n0\n</td>\n</tr>\n<tr>\n<td>\n31501925224145\n</td>\n<td>\n1585981561\n</td>\n<td>\n1.5862e9\n</td>\n<td>\nnull\n</td>\n<td>\n&quot;(Near Brgy.171...\n</td>\n<td>\n1\n</td>\n</tr>\n<tr>\n<td>\n31502339045455\n</td>\n<td>\n1585918515\n</td>\n<td>\n1.5862e9\n</td>\n<td>\nnull\n</td>\n<td>\n&quot;62, 2D (atm 46...\n</td>\n<td>\n0\n</td>\n</tr>\n<tr>\n<td>\n31502490611412\n</td>\n<td>\n1585806208\n</td>\n<td>\n1.5860e9\n</td>\n<td>\n1.5862e9\n</td>\n<td>\n&quot;FASS Petra sor...\n</td>\n<td>\n1\n</td>\n</tr>\n<tr>\n<td>\n31503788156046\n</td>\n<td>\n1585886946\n</td>\n<td>\n1.5860e9\n</td>\n<td>\nnull\n</td>\n<td>\n&quot;proper. Alavar...\n</td>\n<td>\n0\n</td>\n</tr>\n<tr>\n<td>\n31504087640510\n</td>\n<td>\n1585821728\n</td>\n<td>\n1.5860e9\n</td>\n<td>\nnull\n</td>\n<td>\n&quot;Intimate St) c...\n</td>\n<td>\n0\n</td>\n</tr>\n<tr>\n<td>\n31504147352227\n</td>\n<td>\n1585895011\n</td>\n<td>\n1.5862e9\n</td>\n<td>\n1.5862e9\n</td>\n<td>\n&quot;13th 3616 Pili...\n</td>\n<td>\n0\n</td>\n</tr>\n<tr>\n<td>\n31504462290482\n</td>\n<td>\n1585826951\n</td>\n<td>\n1.5860e9\n</td>\n<td>\nnull\n</td>\n<td>\n&quot;Lane, 379B 173...\n</td>\n<td>\n0\n</td>\n</tr>\n<tr>\n<td>\n31504851495943\n</td>\n<td>\n1585891194\n</td>\n<td>\n1.5862e9\n</td>\n<td>\nnull\n</td>\n<td>\n&quot;lrt-2 Consolac...\n</td>\n<td>\n1\n</td>\n</tr>\n<tr>\n<td>\n31505199116340\n</td>\n<td>\n1585823923\n</td>\n<td>\n1.5862e9\n</td>\n<td>\n1.5862e9\n</td>\n<td>\n&quot;(Jeepney Kalig...\n</td>\n<td>\n1\n</td>\n</tr>\n</tbody>\n</table>\n</div>"
     },
     "execution_count": 32,
     "metadata": {},
     "output_type": "execute_result"
    }
   ],
   "source": [
    "%%time\n",
    "(\n",
    "\tdf.with_columns([\n",
    "\t\tpl.when(pl.col('buyeraddress').str.slice(-min_length).str.to_lowercase() == \"anila\")\n",
    "\t\t.then(pl.lit(0))\n",
    "\t\t.when(pl.col('buyeraddress').str.slice(-min_length).str.to_lowercase() == \"luzon\")\n",
    "\t\t.then(pl.lit(1))\n",
    "\t\t.when(pl.col('buyeraddress').str.slice(-min_length).str.to_lowercase() == \"sayas\")\n",
    "\t\t.then(pl.lit(2))\n",
    "\t\t.otherwise(pl.lit(3))\n",
    "\t\t.alias('buyer_index')\n",
    "\t])\n",
    "\t.drop('buyeraddress')\n",
    ")"
   ],
   "metadata": {
    "collapsed": false
   }
  },
  {
   "cell_type": "code",
   "execution_count": 19,
   "outputs": [
    {
     "data": {
      "text/plain": "shape: (3176313, 6)\n┌────────────────┬────────────┬─────────────────┬─────────────────┬──────────────┬─────────────────┐\n│ orderid        ┆ pick       ┆ 1st_deliver_att ┆ 2nd_deliver_att ┆ buyeraddress ┆ selleraddress   │\n│ ---            ┆ ---        ┆ empt            ┆ empt            ┆ ---          ┆ ---             │\n│ i64            ┆ i64        ┆ ---             ┆ ---             ┆ str          ┆ str             │\n│                ┆            ┆ f64             ┆ f64             ┆              ┆                 │\n╞════════════════╪════════════╪═════════════════╪═════════════════╪══════════════╪═════════════════╡\n│ 2215676524     ┆ 1583138397 ┆ 1.5834e9        ┆ null            ┆ anila        ┆ Pantranco vill. │\n│                ┆            ┆                 ┆                 ┆              ┆ 417 Warehouse#  │\n│                ┆            ┆                 ┆                 ┆              ┆ k...            │\n├╌╌╌╌╌╌╌╌╌╌╌╌╌╌╌╌┼╌╌╌╌╌╌╌╌╌╌╌╌┼╌╌╌╌╌╌╌╌╌╌╌╌╌╌╌╌╌┼╌╌╌╌╌╌╌╌╌╌╌╌╌╌╌╌╌┼╌╌╌╌╌╌╌╌╌╌╌╌╌╌┼╌╌╌╌╌╌╌╌╌╌╌╌╌╌╌╌╌┤\n│ 2219624609     ┆ 1583309968 ┆ 1.5835e9        ┆ 1.5838e9        ┆ anila        ┆ BLDG 210A Moras │\n│                ┆            ┆                 ┆                 ┆              ┆ C42B 2B16,168   │\n│                ┆            ┆                 ┆                 ┆              ┆ ch...           │\n├╌╌╌╌╌╌╌╌╌╌╌╌╌╌╌╌┼╌╌╌╌╌╌╌╌╌╌╌╌┼╌╌╌╌╌╌╌╌╌╌╌╌╌╌╌╌╌┼╌╌╌╌╌╌╌╌╌╌╌╌╌╌╌╌╌┼╌╌╌╌╌╌╌╌╌╌╌╌╌╌┼╌╌╌╌╌╌╌╌╌╌╌╌╌╌╌╌╌┤\n│ 2220979489     ┆ 1583306434 ┆ 1.5835e9        ┆ null            ┆ anila        ┆ #66 150-C,      │\n│                ┆            ┆                 ┆                 ┆              ┆ DRIVE, Milagros │\n│                ┆            ┆                 ┆                 ┆              ┆ Joe s...        │\n├╌╌╌╌╌╌╌╌╌╌╌╌╌╌╌╌┼╌╌╌╌╌╌╌╌╌╌╌╌┼╌╌╌╌╌╌╌╌╌╌╌╌╌╌╌╌╌┼╌╌╌╌╌╌╌╌╌╌╌╌╌╌╌╌╌┼╌╌╌╌╌╌╌╌╌╌╌╌╌╌┼╌╌╌╌╌╌╌╌╌╌╌╌╌╌╌╌╌┤\n│ 2221066352     ┆ 1583419016 ┆ 1.5836e9        ┆ null            ┆              ┆ 999maII 201,26  │\n│                ┆            ┆                 ┆                 ┆              ┆ Villaruel       │\n│                ┆            ┆                 ┆                 ┆              ┆ Barrett...      │\n├╌╌╌╌╌╌╌╌╌╌╌╌╌╌╌╌┼╌╌╌╌╌╌╌╌╌╌╌╌┼╌╌╌╌╌╌╌╌╌╌╌╌╌╌╌╌╌┼╌╌╌╌╌╌╌╌╌╌╌╌╌╌╌╌╌┼╌╌╌╌╌╌╌╌╌╌╌╌╌╌┼╌╌╌╌╌╌╌╌╌╌╌╌╌╌╌╌╌┤\n│ ...            ┆ ...        ┆ ...             ┆ ...             ┆ ...          ┆ ...             │\n├╌╌╌╌╌╌╌╌╌╌╌╌╌╌╌╌┼╌╌╌╌╌╌╌╌╌╌╌╌┼╌╌╌╌╌╌╌╌╌╌╌╌╌╌╌╌╌┼╌╌╌╌╌╌╌╌╌╌╌╌╌╌╌╌╌┼╌╌╌╌╌╌╌╌╌╌╌╌╌╌┼╌╌╌╌╌╌╌╌╌╌╌╌╌╌╌╌╌┤\n│ 31504147352227 ┆ 1585895011 ┆ 1.5862e9        ┆ 1.5862e9        ┆ anila        ┆ 13th 3616       │\n│                ┆            ┆                 ┆                 ┆              ┆ Pilipinas,      │\n│                ┆            ┆                 ┆                 ┆              ┆ :1v26 1f-5 ...  │\n├╌╌╌╌╌╌╌╌╌╌╌╌╌╌╌╌┼╌╌╌╌╌╌╌╌╌╌╌╌┼╌╌╌╌╌╌╌╌╌╌╌╌╌╌╌╌╌┼╌╌╌╌╌╌╌╌╌╌╌╌╌╌╌╌╌┼╌╌╌╌╌╌╌╌╌╌╌╌╌╌┼╌╌╌╌╌╌╌╌╌╌╌╌╌╌╌╌╌┤\n│ 31504462290482 ┆ 1585826951 ┆ 1.5860e9        ┆ null            ┆ anila        ┆ Lane, 379B      │\n│                ┆            ┆                 ┆                 ┆              ┆ 1739A Ivc AFPFC │\n│                ┆            ┆                 ┆                 ┆              ┆ Caint...        │\n├╌╌╌╌╌╌╌╌╌╌╌╌╌╌╌╌┼╌╌╌╌╌╌╌╌╌╌╌╌┼╌╌╌╌╌╌╌╌╌╌╌╌╌╌╌╌╌┼╌╌╌╌╌╌╌╌╌╌╌╌╌╌╌╌╌┼╌╌╌╌╌╌╌╌╌╌╌╌╌╌┼╌╌╌╌╌╌╌╌╌╌╌╌╌╌╌╌╌┤\n│ 31504851495943 ┆ 1585891194 ┆ 1.5862e9        ┆ null            ┆ luzon        ┆ lrt-2           │\n│                ┆            ┆                 ┆                 ┆              ┆ Consolacion     │\n│                ┆            ┆                 ┆                 ┆              ┆ 224-A           │\n│                ┆            ┆                 ┆                 ┆              ┆ Paradise...     │\n├╌╌╌╌╌╌╌╌╌╌╌╌╌╌╌╌┼╌╌╌╌╌╌╌╌╌╌╌╌┼╌╌╌╌╌╌╌╌╌╌╌╌╌╌╌╌╌┼╌╌╌╌╌╌╌╌╌╌╌╌╌╌╌╌╌┼╌╌╌╌╌╌╌╌╌╌╌╌╌╌┼╌╌╌╌╌╌╌╌╌╌╌╌╌╌╌╌╌┤\n│ 31505199116340 ┆ 1585823923 ┆ 1.5862e9        ┆ 1.5862e9        ┆ luzon        ┆ (Jeepney        │\n│                ┆            ┆                 ┆                 ┆              ┆ Kaligayan       │\n│                ┆            ┆                 ┆                 ┆              ┆ VANVAN Salud    │\n│                ┆            ┆                 ┆                 ┆              ┆ ...             │\n└────────────────┴────────────┴─────────────────┴─────────────────┴──────────────┴─────────────────┘",
      "text/html": "<div>\n<style scoped>\n    .dataframe tbody tr th:only-of-type {\n        vertical-align: middle;\n    }\n\n    .dataframe tbody tr th {\n        vertical-align: top;\n    }\n\n    .dataframe thead th {\n        text-align: right;\n    }\n\n    .dataframe td {\n        white-space: pre;\n    }\n\n    .dataframe td {\n        padding-top: 0;\n    }\n\n    .dataframe td {\n        padding-bottom: 0;\n    }\n\n    .dataframe td {\n        line-height: 95%;\n    }\n</style>\n<table border=\"1\" class=\"dataframe\" >\n<small>shape: (3176313, 6)</small>\n<thead>\n<tr>\n<th>\norderid\n</th>\n<th>\npick\n</th>\n<th>\n1st_deliver_attempt\n</th>\n<th>\n2nd_deliver_attempt\n</th>\n<th>\nbuyeraddress\n</th>\n<th>\nselleraddress\n</th>\n</tr>\n<tr>\n<td>\ni64\n</td>\n<td>\ni64\n</td>\n<td>\nf64\n</td>\n<td>\nf64\n</td>\n<td>\nstr\n</td>\n<td>\nstr\n</td>\n</tr>\n</thead>\n<tbody>\n<tr>\n<td>\n2215676524\n</td>\n<td>\n1583138397\n</td>\n<td>\n1.5834e9\n</td>\n<td>\nnull\n</td>\n<td>\n&quot;anila&quot;\n</td>\n<td>\n&quot;Pantranco vill...\n</td>\n</tr>\n<tr>\n<td>\n2219624609\n</td>\n<td>\n1583309968\n</td>\n<td>\n1.5835e9\n</td>\n<td>\n1.5838e9\n</td>\n<td>\n&quot;anila&quot;\n</td>\n<td>\n&quot;BLDG 210A Mora...\n</td>\n</tr>\n<tr>\n<td>\n2220979489\n</td>\n<td>\n1583306434\n</td>\n<td>\n1.5835e9\n</td>\n<td>\nnull\n</td>\n<td>\n&quot;anila&quot;\n</td>\n<td>\n&quot;#66 150-C, DRI...\n</td>\n</tr>\n<tr>\n<td>\n2221066352\n</td>\n<td>\n1583419016\n</td>\n<td>\n1.5836e9\n</td>\n<td>\nnull\n</td>\n<td>\n&quot;&quot;\n</td>\n<td>\n&quot;999maII 201,26...\n</td>\n</tr>\n<tr>\n<td>\n2222478803\n</td>\n<td>\n1583318305\n</td>\n<td>\n1.5835e9\n</td>\n<td>\nnull\n</td>\n<td>\n&quot;luzon&quot;\n</td>\n<td>\n&quot;G66MANILA Hiya...\n</td>\n</tr>\n<tr>\n<td>\n2222597288\n</td>\n<td>\n1583328320\n</td>\n<td>\n1.5836e9\n</td>\n<td>\nnull\n</td>\n<td>\n&quot;anila&quot;\n</td>\n<td>\n&quot;33 sta.mesa 19...\n</td>\n</tr>\n<tr>\n<td>\n2222738456\n</td>\n<td>\n1583148712\n</td>\n<td>\n1.5834e9\n</td>\n<td>\n1.5837e9\n</td>\n<td>\n&quot;anila&quot;\n</td>\n<td>\n&quot;salcedo Midlan...\n</td>\n</tr>\n<tr>\n<td>\n2224695304\n</td>\n<td>\n1583127841\n</td>\n<td>\n1.5838e9\n</td>\n<td>\nnull\n</td>\n<td>\n&quot;anila&quot;\n</td>\n<td>\n&quot;Polar 75 mulaw...\n</td>\n</tr>\n<tr>\n<td>\n2224704587\n</td>\n<td>\n1583307779\n</td>\n<td>\n1.5834e9\n</td>\n<td>\n1.5837e9\n</td>\n<td>\n&quot;luzon&quot;\n</td>\n<td>\n&quot;skies dept. Cr...\n</td>\n</tr>\n<tr>\n<td>\n2225138267\n</td>\n<td>\n1583336611\n</td>\n<td>\n1.5838e9\n</td>\n<td>\nnull\n</td>\n<td>\n&quot;sayas&quot;\n</td>\n<td>\n&quot;9x Comfort Gre...\n</td>\n</tr>\n<tr>\n<td>\n2225861241\n</td>\n<td>\n1583575053\n</td>\n<td>\n1.5838e9\n</td>\n<td>\nnull\n</td>\n<td>\n&quot;anila&quot;\n</td>\n<td>\n&quot;1.soler Fair, ...\n</td>\n</tr>\n<tr>\n<td>\n2226935316\n</td>\n<td>\n1583133354\n</td>\n<td>\n1.5834e9\n</td>\n<td>\nnull\n</td>\n<td>\n&quot;luzon&quot;\n</td>\n<td>\n&quot;008 287,Binond...\n</td>\n</tr>\n<tr>\n<td>\n...\n</td>\n<td>\n...\n</td>\n<td>\n...\n</td>\n<td>\n...\n</td>\n<td>\n...\n</td>\n<td>\n...\n</td>\n</tr>\n<tr>\n<td>\n31501334465889\n</td>\n<td>\n1585812514\n</td>\n<td>\n1.5860e9\n</td>\n<td>\nnull\n</td>\n<td>\n&quot;ila&quot;\n</td>\n<td>\n&quot;Ongpin, LRT.S-...\n</td>\n</tr>\n<tr>\n<td>\n31501424794332\n</td>\n<td>\n1585808204\n</td>\n<td>\n1.5861e9\n</td>\n<td>\nnull\n</td>\n<td>\n&quot;sayas&quot;\n</td>\n<td>\n&quot;1572 91.east.1...\n</td>\n</tr>\n<tr>\n<td>\n31501457052965\n</td>\n<td>\n1585893900\n</td>\n<td>\n1.5862e9\n</td>\n<td>\nnull\n</td>\n<td>\n&quot;anila&quot;\n</td>\n<td>\n&quot;Antonio Meñez ...\n</td>\n</tr>\n<tr>\n<td>\n31501925224145\n</td>\n<td>\n1585981561\n</td>\n<td>\n1.5862e9\n</td>\n<td>\nnull\n</td>\n<td>\n&quot;luzon&quot;\n</td>\n<td>\n&quot;(Near Brgy.171...\n</td>\n</tr>\n<tr>\n<td>\n31502339045455\n</td>\n<td>\n1585918515\n</td>\n<td>\n1.5862e9\n</td>\n<td>\nnull\n</td>\n<td>\n&quot;anila&quot;\n</td>\n<td>\n&quot;62, 2D (atm 46...\n</td>\n</tr>\n<tr>\n<td>\n31502490611412\n</td>\n<td>\n1585806208\n</td>\n<td>\n1.5860e9\n</td>\n<td>\n1.5862e9\n</td>\n<td>\n&quot;luzon&quot;\n</td>\n<td>\n&quot;FASS Petra sor...\n</td>\n</tr>\n<tr>\n<td>\n31503788156046\n</td>\n<td>\n1585886946\n</td>\n<td>\n1.5860e9\n</td>\n<td>\nnull\n</td>\n<td>\n&quot;anila&quot;\n</td>\n<td>\n&quot;proper. Alavar...\n</td>\n</tr>\n<tr>\n<td>\n31504087640510\n</td>\n<td>\n1585821728\n</td>\n<td>\n1.5860e9\n</td>\n<td>\nnull\n</td>\n<td>\n&quot;anila&quot;\n</td>\n<td>\n&quot;Intimate St) c...\n</td>\n</tr>\n<tr>\n<td>\n31504147352227\n</td>\n<td>\n1585895011\n</td>\n<td>\n1.5862e9\n</td>\n<td>\n1.5862e9\n</td>\n<td>\n&quot;anila&quot;\n</td>\n<td>\n&quot;13th 3616 Pili...\n</td>\n</tr>\n<tr>\n<td>\n31504462290482\n</td>\n<td>\n1585826951\n</td>\n<td>\n1.5860e9\n</td>\n<td>\nnull\n</td>\n<td>\n&quot;anila&quot;\n</td>\n<td>\n&quot;Lane, 379B 173...\n</td>\n</tr>\n<tr>\n<td>\n31504851495943\n</td>\n<td>\n1585891194\n</td>\n<td>\n1.5862e9\n</td>\n<td>\nnull\n</td>\n<td>\n&quot;luzon&quot;\n</td>\n<td>\n&quot;lrt-2 Consolac...\n</td>\n</tr>\n<tr>\n<td>\n31505199116340\n</td>\n<td>\n1585823923\n</td>\n<td>\n1.5862e9\n</td>\n<td>\n1.5862e9\n</td>\n<td>\n&quot;luzon&quot;\n</td>\n<td>\n&quot;(Jeepney Kalig...\n</td>\n</tr>\n</tbody>\n</table>\n</div>"
     },
     "execution_count": 19,
     "metadata": {},
     "output_type": "execute_result"
    }
   ],
   "source": [
    "df.with_columns([pl.col('buyeraddress').str.slice(-min_length).]\n",
    "\t\t\t\t )"
   ],
   "metadata": {
    "collapsed": false
   }
  },
  {
   "cell_type": "code",
   "execution_count": null,
   "outputs": [],
   "source": [
    "(df.select(\n",
    "        [\n",
    "            pl.col('buyeraddress').map(lambda x: )\n",
    "        ]\n",
    "))"
   ],
   "metadata": {
    "collapsed": false
   }
  }
 ],
 "metadata": {
  "kernelspec": {
   "display_name": "Python 3",
   "language": "python",
   "name": "python3"
  },
  "language_info": {
   "codemirror_mode": {
    "name": "ipython",
    "version": 2
   },
   "file_extension": ".py",
   "mimetype": "text/x-python",
   "name": "python",
   "nbconvert_exporter": "python",
   "pygments_lexer": "ipython2",
   "version": "2.7.6"
  }
 },
 "nbformat": 4,
 "nbformat_minor": 0
}
