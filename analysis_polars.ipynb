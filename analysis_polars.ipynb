{
 "cells": [
  {
   "cell_type": "code",
   "execution_count": 1,
   "metadata": {
    "collapsed": true
   },
   "outputs": [],
   "source": [
    "import numpy as np\n",
    "import polars as pl"
   ]
  },
  {
   "cell_type": "code",
   "execution_count": 2,
   "outputs": [
    {
     "name": "stdout",
     "output_type": "stream",
     "text": [
      "CPU times: user 2.5 s, sys: 839 ms, total: 3.33 s\n",
      "Wall time: 5.01 s\n"
     ]
    }
   ],
   "source": [
    "%%time\n",
    "df = (\n",
    "\tpl.read_csv(\"/Users/sonle/Documents/Data/delivery_orders_march.csv\")\n",
    "\t.select(pl.all().shrink_dtype())\n",
    ")\n",
    "#Actually at this cell, using pl.scan_csv is superior to pl.read_csv if large file appeals but here the data is about 750mb and the loading time is so fast (5s). Hence, pl.read_csv is acceptable. Still, I recommend using pl.scan_xxx."
   ],
   "metadata": {
    "collapsed": false
   }
  },
  {
   "cell_type": "code",
   "execution_count": 3,
   "outputs": [
    {
     "name": "stdout",
     "output_type": "stream",
     "text": [
      "shape: (3176313, 6)\n",
      "┌────────────────┬────────────┬─────────────────┬────────────────┬────────────────┬────────────────┐\n",
      "│ orderid        ┆ pick       ┆ 1st_deliver_att ┆ 2nd_deliver_at ┆ buyeraddress   ┆ selleraddress  │\n",
      "│ ---            ┆ ---        ┆ empt            ┆ tempt          ┆ ---            ┆ ---            │\n",
      "│ i64            ┆ i32        ┆ ---             ┆ ---            ┆ str            ┆ str            │\n",
      "│                ┆            ┆ f32             ┆ f32            ┆                ┆                │\n",
      "╞════════════════╪════════════╪═════════════════╪════════════════╪════════════════╪════════════════╡\n",
      "│ 2215676524     ┆ 1583138397 ┆ 1.5834e9        ┆ null           ┆ Baging ldl BUE ┆ Pantranco      │\n",
      "│                ┆            ┆                 ┆                ┆ NAVISTA,PATAG. ┆ vill. 417      │\n",
      "│                ┆            ┆                 ┆                ┆ CAGA...        ┆ Warehouse#     │\n",
      "│                ┆            ┆                 ┆                ┆                ┆ k...           │\n",
      "│ 2219624609     ┆ 1583309968 ┆ 1.5835e9        ┆ 1.5838e9       ┆ coloma's quzom ┆ BLDG 210A      │\n",
      "│                ┆            ┆                 ┆                ┆ CASANAS Site1  ┆ Moras C42B     │\n",
      "│                ┆            ┆                 ┆                ┆ Mas...         ┆ 2B16,168 ch... │\n",
      "│ 2220979489     ┆ 1583306434 ┆ 1.5835e9        ┆ null           ┆ 21-O LumangDaa ┆ #66 150-C,     │\n",
      "│                ┆            ┆                 ┆                ┆ n,Capitangan,A ┆ DRIVE,         │\n",
      "│                ┆            ┆                 ┆                ┆ buca...        ┆ Milagros Joe   │\n",
      "│                ┆            ┆                 ┆                ┆                ┆ s...           │\n",
      "│ 2221066352     ┆ 1583419016 ┆ 1.5836e9        ┆ null           ┆ 616Espiritu    ┆ 999maII 201,26 │\n",
      "│                ┆            ┆                 ┆                ┆ MARTINVILLE,MA ┆ Villaruel      │\n",
      "│                ┆            ┆                 ┆                ┆ NUYO #...      ┆ Barrett...     │\n",
      "│ ...            ┆ ...        ┆ ...             ┆ ...            ┆ ...            ┆ ...            │\n",
      "│ 31504147352227 ┆ 1585895011 ┆ 1.5862e9        ┆ 1.5862e9       ┆ Superdome      ┆ 13th 3616      │\n",
      "│                ┆            ┆                 ┆                ┆ PORKY K307     ┆ Pilipinas,     │\n",
      "│                ┆            ┆                 ┆                ┆ Libertad, P... ┆ :1v26 1f-5 ... │\n",
      "│ 31504462290482 ┆ 1585826951 ┆ 1.5860e9        ┆ null           ┆ Galay's        ┆ Lane, 379B     │\n",
      "│                ┆            ┆                 ┆                ┆ 1republic      ┆ 1739A Ivc      │\n",
      "│                ┆            ┆                 ┆                ┆ 333-18         ┆ AFPFC Caint... │\n",
      "│                ┆            ┆                 ┆                ┆ Diliman...     ┆                │\n",
      "│ 31504851495943 ┆ 1585891194 ┆ 1.5862e9        ┆ null           ┆ #4560, 80south ┆ lrt-2          │\n",
      "│                ┆            ┆                 ┆                ┆ biloca vi!!age ┆ Consolacion    │\n",
      "│                ┆            ┆                 ┆                ┆ KM...          ┆ 224-A          │\n",
      "│                ┆            ┆                 ┆                ┆                ┆ Paradise...    │\n",
      "│ 31505199116340 ┆ 1585823923 ┆ 1.5862e9        ┆ 1.5862e9       ┆ b4l13 TOLDA    ┆ (Jeepney       │\n",
      "│                ┆            ┆                 ┆                ┆ 792-A-5-A      ┆ Kaligayan      │\n",
      "│                ┆            ┆                 ┆                ┆ east...nea...  ┆ VANVAN Salud   │\n",
      "│                ┆            ┆                 ┆                ┆                ┆ ...            │\n",
      "└────────────────┴────────────┴─────────────────┴────────────────┴────────────────┴────────────────┘\n"
     ]
    }
   ],
   "source": [
    "print(df)"
   ],
   "metadata": {
    "collapsed": false
   }
  },
  {
   "cell_type": "code",
   "execution_count": 4,
   "outputs": [
    {
     "name": "stdout",
     "output_type": "stream",
     "text": [
      "{'metro manila': 0, 'luzon': 1, 'visayas': 2, 'mindanao': 3}\n",
      "{'anila': 0, 'luzon': 1, 'sayas': 2, 'danao': 3}\n",
      "{0: 3, 1: 5, 2: 7, 3: 7, 4: 5, 5: 5, 6: 7, 7: 7, 8: 7, 9: 7, 10: 7, 11: 7, 12: 7, 13: 7, 14: 7, 15: 7}\n"
     ]
    }
   ],
   "source": [
    "WORKDAYS = '1111110'\n",
    "HOLIDAYS = ['2020-03-08', '2020-03-25', '2020-03-30', '2020-03-31']\n",
    "\n",
    "GMT8_OFFSET = 3600 * 8\n",
    "DURATION_1DAY = 3600 * 24\n",
    "\n",
    "sla_matrix_1st_attempt = [\n",
    "\t[3, 5, 7, 7],\n",
    "\t[5, 5, 7, 7],\n",
    "\t[7, 7, 7, 7],\n",
    "\t[7, 7, 7, 7]\n",
    "]\n",
    "\n",
    "sla_matrix_2nd_attempt = [\n",
    "\t[3, 3, 3, 3],\n",
    "\t[3, 3, 3, 3],\n",
    "\t[3, 3, 3, 3],\n",
    "\t[3, 3, 3, 3]\n",
    "]\n",
    "locations = [\"Metro Manila\", \"Luzon\", \"Visayas\", \"Mindanao\"]\n",
    "locations = [loc.lower() for loc in locations]\n",
    "location_to_index = {loc: i for i, loc in enumerate(locations)}\n",
    "print(location_to_index)\n",
    "\n",
    "min_length = min(map(len, locations))\n",
    "trunc_location_to_index = {loc [-min_length:]: i for i, loc in enumerate(locations)}\n",
    "print(trunc_location_to_index)\n",
    "#transform to native python type for easily mapping\n",
    "map_to_dict = dict(enumerate(np.array(sla_matrix_1st_attempt).flatten().tolist()))\n",
    "print(map_to_dict)"
   ],
   "metadata": {
    "collapsed": false
   }
  },
  {
   "cell_type": "code",
   "execution_count": 5,
   "outputs": [
    {
     "name": "stdout",
     "output_type": "stream",
     "text": [
      "shape: (3176313, 6)\n",
      "┌────────────────┬────────────┬──────────────────┬─────────────────┬─────────────────┬─────────────┐\n",
      "│ orderid        ┆ pick       ┆ 1st_deliver_atte ┆ 2nd_deliver_att ┆ selleraddress   ┆ buyer_index │\n",
      "│ ---            ┆ ---        ┆ mpt              ┆ empt            ┆ ---             ┆ ---         │\n",
      "│ i64            ┆ i32        ┆ ---              ┆ ---             ┆ str             ┆ i32         │\n",
      "│                ┆            ┆ f32              ┆ f32             ┆                 ┆             │\n",
      "╞════════════════╪════════════╪══════════════════╪═════════════════╪═════════════════╪═════════════╡\n",
      "│ 2215676524     ┆ 1583138397 ┆ 1.5834e9         ┆ null            ┆ Pantranco vill. ┆ 0           │\n",
      "│                ┆            ┆                  ┆                 ┆ 417 Warehouse#  ┆             │\n",
      "│                ┆            ┆                  ┆                 ┆ k...            ┆             │\n",
      "│ 2219624609     ┆ 1583309968 ┆ 1.5835e9         ┆ 1.5838e9        ┆ BLDG 210A Moras ┆ 0           │\n",
      "│                ┆            ┆                  ┆                 ┆ C42B 2B16,168   ┆             │\n",
      "│                ┆            ┆                  ┆                 ┆ ch...           ┆             │\n",
      "│ 2220979489     ┆ 1583306434 ┆ 1.5835e9         ┆ null            ┆ #66 150-C,      ┆ 0           │\n",
      "│                ┆            ┆                  ┆                 ┆ DRIVE, Milagros ┆             │\n",
      "│                ┆            ┆                  ┆                 ┆ Joe s...        ┆             │\n",
      "│ 2221066352     ┆ 1583419016 ┆ 1.5836e9         ┆ null            ┆ 999maII 201,26  ┆ 3           │\n",
      "│                ┆            ┆                  ┆                 ┆ Villaruel       ┆             │\n",
      "│                ┆            ┆                  ┆                 ┆ Barrett...      ┆             │\n",
      "│ ...            ┆ ...        ┆ ...              ┆ ...             ┆ ...             ┆ ...         │\n",
      "│ 31504147352227 ┆ 1585895011 ┆ 1.5862e9         ┆ 1.5862e9        ┆ 13th 3616       ┆ 0           │\n",
      "│                ┆            ┆                  ┆                 ┆ Pilipinas,      ┆             │\n",
      "│                ┆            ┆                  ┆                 ┆ :1v26 1f-5 ...  ┆             │\n",
      "│ 31504462290482 ┆ 1585826951 ┆ 1.5860e9         ┆ null            ┆ Lane, 379B      ┆ 0           │\n",
      "│                ┆            ┆                  ┆                 ┆ 1739A Ivc AFPFC ┆             │\n",
      "│                ┆            ┆                  ┆                 ┆ Caint...        ┆             │\n",
      "│ 31504851495943 ┆ 1585891194 ┆ 1.5862e9         ┆ null            ┆ lrt-2           ┆ 1           │\n",
      "│                ┆            ┆                  ┆                 ┆ Consolacion     ┆             │\n",
      "│                ┆            ┆                  ┆                 ┆ 224-A           ┆             │\n",
      "│                ┆            ┆                  ┆                 ┆ Paradise...     ┆             │\n",
      "│ 31505199116340 ┆ 1585823923 ┆ 1.5862e9         ┆ 1.5862e9        ┆ (Jeepney        ┆ 1           │\n",
      "│                ┆            ┆                  ┆                 ┆ Kaligayan       ┆             │\n",
      "│                ┆            ┆                  ┆                 ┆ VANVAN Salud    ┆             │\n",
      "│                ┆            ┆                  ┆                 ┆ ...             ┆             │\n",
      "└────────────────┴────────────┴──────────────────┴─────────────────┴─────────────────┴─────────────┘\n"
     ]
    }
   ],
   "source": [
    "# This code uses predictate condition in polars to map data with given index\n",
    "\n",
    "print(\n",
    "\t\tdf.with_columns([\n",
    "\t\t\tpl.when(pl.col('buyeraddress').str.slice(-min_length).str.to_lowercase() == \"anila\")\n",
    "\t\t\t.then(pl.lit(0))\n",
    "\t\t\t.when(pl.col('buyeraddress').str.slice(-min_length).str.to_lowercase() == \"luzon\")\n",
    "\t\t\t.then(pl.lit(1))\n",
    "\t\t\t.when(pl.col('buyeraddress').str.slice(-min_length).str.to_lowercase() == \"sayas\")\n",
    "\t\t\t.then(pl.lit(2))\n",
    "\t\t\t.otherwise(pl.lit(3))\n",
    "\t\t\t.alias('buyer_index')\n",
    "\t\t])\n",
    "\t\t.drop('buyeraddress')\n",
    ")"
   ],
   "metadata": {
    "collapsed": false
   }
  },
  {
   "cell_type": "code",
   "execution_count": 6,
   "outputs": [],
   "source": [
    "#Given a mapping list, we need a function to directly map them into our pl.Dataframe\n",
    "def replace(column: str, mapping: dict) -> pl.internals.expr.Expr:\n",
    "\t\"\"\"\n",
    "\tFunction to map cities to indexes\n",
    "\t:param column: columns of polars.Dataframe\n",
    "\t:param mapping: a dictionary of cities and indexes\n",
    "\t:return: mapped Dataframe\n",
    "\t\"\"\"\n",
    "\tif not mapping:\n",
    "\t\traise Exception(\"mapping can't be empty\")\n",
    "\telif not isinstance(mapping, dict):\n",
    "\t\tTypeError(f\"maping must be of type dict, but is type: {type(mapping)}\")\n",
    "\tif not isinstance(column, str):\n",
    "\t\traise TypeError(f\"column must be of type str, but is type: {type(column)}\")\n",
    "\n",
    "\t#initiate the expression with pl.when\n",
    "\tbranch = pl.when(pl.col(column) == list(mapping.keys()) [0]) \\\n",
    "\t\t.then(list(mapping.values()) [0])\n",
    "\t#for every value add a when.then\n",
    "\tfor from_val, to_val in mapping.items():\n",
    "\t\tbranch = branch.when(pl.col(column) == from_val) \\\n",
    "\t\t\t.then(to_val)\n",
    "\n",
    "\treturn branch.otherwise(list(mapping.values()) [-1]).alias(column)\n"
   ],
   "metadata": {
    "collapsed": false
   }
  },
  {
   "cell_type": "code",
   "execution_count": 7,
   "outputs": [],
   "source": [
    "def convert_time_date(column):\n",
    "\treturn (\n",
    "\t\tpl.col(column)\n",
    "\t\t.map(lambda x: (x + GMT8_OFFSET) / DURATION_1DAY)\n",
    "\t\t.cast(pl.Int32)\n",
    "\t\t.alias(column)\n",
    "\t)"
   ],
   "metadata": {
    "collapsed": false
   }
  },
  {
   "cell_type": "code",
   "execution_count": 8,
   "outputs": [],
   "source": [
    "def compute_working_days(df):\n",
    "\tt1 = df.select(convert_time_date(\"pick\")).to_numpy().astype('datetime64[D]')\n",
    "\tt2 = df.select(convert_time_date(\"1st_deliver_attempt\")).to_numpy().astype('datetime64[D]')\n",
    "\tt3 = df.select(convert_time_date(\"2nd_deliver_attempt\").fill_null(strategy='zero')).to_numpy().astype(\n",
    "\t\t'datetime64[D]')\n",
    "\n",
    "\tnum_days1 = np.busday_count(t1, t2, weekmask=WORKDAYS, holidays=HOLIDAYS).flatten()\n",
    "\tnum_days2 = np.busday_count(t2, t3, weekmask=WORKDAYS, holidays=HOLIDAYS).flatten()\n",
    "\treturn num_days1, num_days2\n",
    "\n"
   ],
   "metadata": {
    "collapsed": false
   }
  },
  {
   "cell_type": "code",
   "execution_count": 9,
   "outputs": [
    {
     "name": "stdout",
     "output_type": "stream",
     "text": [
      "[3 2 2 ... 2 3 3]\n"
     ]
    }
   ],
   "source": [
    "num_days1, num_days2 = compute_working_days(df)\n",
    "print(num_days1)"
   ],
   "metadata": {
    "collapsed": false
   }
  },
  {
   "cell_type": "code",
   "execution_count": 10,
   "outputs": [
    {
     "name": "stdout",
     "output_type": "stream",
     "text": [
      "CPU times: user 2.75 s, sys: 194 ms, total: 2.95 s\n",
      "Wall time: 1.71 s\n"
     ]
    }
   ],
   "source": [
    "%%time\n",
    "result = (df\n",
    "          .with_columns([\n",
    "\tpl.col(\"buyeraddress\").str.slice(-min_length).str.to_lowercase(),\n",
    "\tpl.col(\"selleraddress\").str.slice(-min_length).str.to_lowercase(),\n",
    "\tpl.col(\"2nd_deliver_attempt\").fill_null(0).cast(pl.Int32)])\n",
    "          .with_columns([replace(\"buyeraddress\", trunc_location_to_index),\n",
    "                         replace(\"selleraddress\", trunc_location_to_index)])\n",
    "          .with_columns((4 * pl.col(\"buyeraddress\") + pl.col(\"selleraddress\")).cast(pl.Int32).alias(\"sla\"))\n",
    "          .with_columns([replace(\"sla\", map_to_dict),\n",
    "                         convert_time_date(\"pick\"),\n",
    "                         convert_time_date(\"1st_deliver_attempt\"),\n",
    "                         convert_time_date(\"2nd_deliver_attempt\"),\n",
    "                         pl.Series(name='num_days1', values=num_days1),\n",
    "                         pl.Series(name='num_days2', values=num_days2)])\n",
    "          )\n",
    "\n"
   ],
   "metadata": {
    "collapsed": false
   }
  },
  {
   "cell_type": "code",
   "execution_count": 25,
   "outputs": [
    {
     "name": "stdout",
     "output_type": "stream",
     "text": [
      "shape: (2, 3)\n",
      "┌─────────┬─────────────┬────────────┐\n",
      "│ is_late ┆ count_order ┆ %_is_slate │\n",
      "│ ---     ┆ ---         ┆ ---        │\n",
      "│ i32     ┆ u32         ┆ f64        │\n",
      "╞═════════╪═════════════╪════════════╡\n",
      "│ 0       ┆ 2464650     ┆ 0.775947   │\n",
      "│ 1       ┆ 711663      ┆ 0.224053   │\n",
      "└─────────┴─────────────┴────────────┘\n"
     ]
    }
   ],
   "source": [
    "\n",
    "print(\n",
    "\t\tresult\n",
    "\t\t.with_columns(pl.when((pl.col(\"num_days1\") > pl.col(\"sla\")) | (pl.col(\"num_days2\") > 3))\n",
    "\t\t              .then(pl.lit(1, pl.Int32))\n",
    "\t\t              .otherwise(pl.lit(0, pl.Int32))\n",
    "\t\t              .alias(\"is_late\"))\n",
    "\t\t.groupby(['is_late'])\n",
    "\t\t.agg(\n",
    "\t\t\t\t[\n",
    "\t\t\t\t\tpl.count().alias('count_order'),\n",
    "\t\t\t\t]\n",
    "\t\t)\n",
    "\t\t.with_columns(\n",
    "\t\t\t\t(pl.col('count_order') / pl.col('count_order').sum()).alias('%_is_slate')\n",
    "\t\t)\n",
    "\n",
    "\t\t# .write_csv('submission_polars')\n",
    ")\n"
   ],
   "metadata": {
    "collapsed": false
   }
  }
 ],
 "metadata": {
  "kernelspec": {
   "display_name": "Python 3",
   "language": "python",
   "name": "python3"
  },
  "language_info": {
   "codemirror_mode": {
    "name": "ipython",
    "version": 2
   },
   "file_extension": ".py",
   "mimetype": "text/x-python",
   "name": "python",
   "nbconvert_exporter": "python",
   "pygments_lexer": "ipython2",
   "version": "2.7.6"
  }
 },
 "nbformat": 4,
 "nbformat_minor": 0
}
