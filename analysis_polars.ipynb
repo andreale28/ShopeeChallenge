{
 "cells": [
  {
   "cell_type": "code",
   "execution_count": 2,
   "metadata": {
    "collapsed": true
   },
   "outputs": [],
   "source": [
    "import numpy as np\n",
    "import polars as pl"
   ]
  },
  {
   "cell_type": "code",
   "execution_count": 3,
   "outputs": [
    {
     "name": "stdout",
     "output_type": "stream",
     "text": [
      "CPU times: user 4.86 s, sys: 4.77 s, total: 9.63 s\n",
      "Wall time: 3.95 s\n"
     ]
    }
   ],
   "source": [
    "%%time\n",
    "df = (\n",
    "\tpl.read_csv(\"/Users/sonle/Documents/Data/delivery_orders_march.csv\")\n",
    "\t\t.select(pl.all().shrink_dtype())\n",
    ")\n"
   ],
   "metadata": {
    "collapsed": false
   }
  },
  {
   "cell_type": "code",
   "execution_count": 4,
   "outputs": [
    {
     "name": "stdout",
     "output_type": "stream",
     "text": [
      "{'metro manila': 0, 'luzon': 1, 'visayas': 2, 'mindanao': 3}\n",
      "{'anila': 0, 'luzon': 1, 'sayas': 2, 'danao': 3}\n",
      "{0: 3, 1: 5, 2: 7, 3: 7, 4: 5, 5: 5, 6: 7, 7: 7, 8: 7, 9: 7, 10: 7, 11: 7, 12: 7, 13: 7, 14: 7, 15: 7}\n"
     ]
    }
   ],
   "source": [
    "WORKDAYS = '1111110'\n",
    "HOLIDAYS = ['2020-03-08','2020-03-25', '2020-03-30', '2020-03-31']\n",
    "\n",
    "GMT8_OFFSET = 3600 * 8\n",
    "DURATION_1DAY = 3600 * 24\n",
    "\n",
    "sla_matrix_1st_attempt = [\n",
    "\t[3, 5, 7, 7],\n",
    "\t[5, 5, 7, 7],\n",
    "\t[7, 7, 7, 7],\n",
    "\t[7, 7, 7, 7]\n",
    "]\n",
    "\n",
    "sla_matrix_2nd_attempt =[\n",
    "\t[3, 3, 3, 3],\n",
    "\t[3, 3, 3, 3],\n",
    "\t[3, 3, 3, 3],\n",
    "\t[3, 3, 3, 3]\n",
    "]\n",
    "locations = [\"Metro Manila\", \"Luzon\", \"Visayas\", \"Mindanao\"]\n",
    "locations = [loc.lower() for loc in locations]\n",
    "location_to_index = {loc: i for i, loc in enumerate(locations)}\n",
    "print(location_to_index)\n",
    "\n",
    "min_length = min(map(len, locations))\n",
    "trunc_location_to_index = {loc[-min_length:]: i for i, loc in enumerate(locations)}\n",
    "print(trunc_location_to_index)\n",
    "#transform to native python type for easily mapping\n",
    "map_to_dict = dict(enumerate(np.array(sla_matrix_1st_attempt).flatten().tolist()))\n",
    "print(map_to_dict)"
   ],
   "metadata": {
    "collapsed": false
   }
  },
  {
   "cell_type": "code",
   "execution_count": 6,
   "outputs": [],
   "source": [
    "# This code uses predictate condition in polars to map data with given index\n",
    "%%time\n",
    "(\n",
    "\tdf.with_columns([\n",
    "\t\tpl.when(pl.col('buyeraddress').str.slice(-min_length).str.to_lowercase() == \"anila\")\n",
    "\t\t.then(pl.lit(0))\n",
    "\t\t.when(pl.col('buyeraddress').str.slice(-min_length).str.to_lowercase() == \"luzon\")\n",
    "\t\t.then(pl.lit(1))\n",
    "\t\t.when(pl.col('buyeraddress').str.slice(-min_length).str.to_lowercase() == \"sayas\")\n",
    "\t\t.then(pl.lit(2))\n",
    "\t\t.otherwise(pl.lit(3))\n",
    "\t\t.alias('buyer_index')\n",
    "\t])\n",
    "\t.drop('buyeraddress')\n",
    ")"
   ],
   "metadata": {
    "collapsed": false
   }
  },
  {
   "cell_type": "code",
   "execution_count": 7,
   "outputs": [
    {
     "name": "stdout",
     "output_type": "stream",
     "text": [
      "shape: (3176313, 6)\n",
      "┌────────────────┬────────────┬─────────────────┬────────────────┬────────────────┬────────────────┐\n",
      "│ orderid        ┆ pick       ┆ 1st_deliver_att ┆ 2nd_deliver_at ┆ buyeraddress   ┆ selleraddress  │\n",
      "│ ---            ┆ ---        ┆ empt            ┆ tempt          ┆ ---            ┆ ---            │\n",
      "│ i64            ┆ i32        ┆ ---             ┆ ---            ┆ str            ┆ str            │\n",
      "│                ┆            ┆ f32             ┆ f32            ┆                ┆                │\n",
      "╞════════════════╪════════════╪═════════════════╪════════════════╪════════════════╪════════════════╡\n",
      "│ 2215676524     ┆ 1583138397 ┆ 1.5834e9        ┆ null           ┆ Baging ldl BUE ┆ Pantranco      │\n",
      "│                ┆            ┆                 ┆                ┆ NAVISTA,PATAG. ┆ vill. 417      │\n",
      "│                ┆            ┆                 ┆                ┆ CAGA...        ┆ Warehouse#     │\n",
      "│                ┆            ┆                 ┆                ┆                ┆ k...           │\n",
      "├╌╌╌╌╌╌╌╌╌╌╌╌╌╌╌╌┼╌╌╌╌╌╌╌╌╌╌╌╌┼╌╌╌╌╌╌╌╌╌╌╌╌╌╌╌╌╌┼╌╌╌╌╌╌╌╌╌╌╌╌╌╌╌╌┼╌╌╌╌╌╌╌╌╌╌╌╌╌╌╌╌┼╌╌╌╌╌╌╌╌╌╌╌╌╌╌╌╌┤\n",
      "│ 2219624609     ┆ 1583309968 ┆ 1.5835e9        ┆ 1.5838e9       ┆ coloma's quzom ┆ BLDG 210A      │\n",
      "│                ┆            ┆                 ┆                ┆ CASANAS Site1  ┆ Moras C42B     │\n",
      "│                ┆            ┆                 ┆                ┆ Mas...         ┆ 2B16,168 ch... │\n",
      "├╌╌╌╌╌╌╌╌╌╌╌╌╌╌╌╌┼╌╌╌╌╌╌╌╌╌╌╌╌┼╌╌╌╌╌╌╌╌╌╌╌╌╌╌╌╌╌┼╌╌╌╌╌╌╌╌╌╌╌╌╌╌╌╌┼╌╌╌╌╌╌╌╌╌╌╌╌╌╌╌╌┼╌╌╌╌╌╌╌╌╌╌╌╌╌╌╌╌┤\n",
      "│ 2220979489     ┆ 1583306434 ┆ 1.5835e9        ┆ null           ┆ 21-O LumangDaa ┆ #66 150-C,     │\n",
      "│                ┆            ┆                 ┆                ┆ n,Capitangan,A ┆ DRIVE,         │\n",
      "│                ┆            ┆                 ┆                ┆ buca...        ┆ Milagros Joe   │\n",
      "│                ┆            ┆                 ┆                ┆                ┆ s...           │\n",
      "├╌╌╌╌╌╌╌╌╌╌╌╌╌╌╌╌┼╌╌╌╌╌╌╌╌╌╌╌╌┼╌╌╌╌╌╌╌╌╌╌╌╌╌╌╌╌╌┼╌╌╌╌╌╌╌╌╌╌╌╌╌╌╌╌┼╌╌╌╌╌╌╌╌╌╌╌╌╌╌╌╌┼╌╌╌╌╌╌╌╌╌╌╌╌╌╌╌╌┤\n",
      "│ 2221066352     ┆ 1583419016 ┆ 1.5836e9        ┆ null           ┆ 616Espiritu    ┆ 999maII 201,26 │\n",
      "│                ┆            ┆                 ┆                ┆ MARTINVILLE,MA ┆ Villaruel      │\n",
      "│                ┆            ┆                 ┆                ┆ NUYO #...      ┆ Barrett...     │\n",
      "├╌╌╌╌╌╌╌╌╌╌╌╌╌╌╌╌┼╌╌╌╌╌╌╌╌╌╌╌╌┼╌╌╌╌╌╌╌╌╌╌╌╌╌╌╌╌╌┼╌╌╌╌╌╌╌╌╌╌╌╌╌╌╌╌┼╌╌╌╌╌╌╌╌╌╌╌╌╌╌╌╌┼╌╌╌╌╌╌╌╌╌╌╌╌╌╌╌╌┤\n",
      "│ ...            ┆ ...        ┆ ...             ┆ ...            ┆ ...            ┆ ...            │\n",
      "├╌╌╌╌╌╌╌╌╌╌╌╌╌╌╌╌┼╌╌╌╌╌╌╌╌╌╌╌╌┼╌╌╌╌╌╌╌╌╌╌╌╌╌╌╌╌╌┼╌╌╌╌╌╌╌╌╌╌╌╌╌╌╌╌┼╌╌╌╌╌╌╌╌╌╌╌╌╌╌╌╌┼╌╌╌╌╌╌╌╌╌╌╌╌╌╌╌╌┤\n",
      "│ 31504147352227 ┆ 1585895011 ┆ 1.5862e9        ┆ 1.5862e9       ┆ Superdome      ┆ 13th 3616      │\n",
      "│                ┆            ┆                 ┆                ┆ PORKY K307     ┆ Pilipinas,     │\n",
      "│                ┆            ┆                 ┆                ┆ Libertad, P... ┆ :1v26 1f-5 ... │\n",
      "├╌╌╌╌╌╌╌╌╌╌╌╌╌╌╌╌┼╌╌╌╌╌╌╌╌╌╌╌╌┼╌╌╌╌╌╌╌╌╌╌╌╌╌╌╌╌╌┼╌╌╌╌╌╌╌╌╌╌╌╌╌╌╌╌┼╌╌╌╌╌╌╌╌╌╌╌╌╌╌╌╌┼╌╌╌╌╌╌╌╌╌╌╌╌╌╌╌╌┤\n",
      "│ 31504462290482 ┆ 1585826951 ┆ 1.5860e9        ┆ null           ┆ Galay's        ┆ Lane, 379B     │\n",
      "│                ┆            ┆                 ┆                ┆ 1republic      ┆ 1739A Ivc      │\n",
      "│                ┆            ┆                 ┆                ┆ 333-18         ┆ AFPFC Caint... │\n",
      "│                ┆            ┆                 ┆                ┆ Diliman...     ┆                │\n",
      "├╌╌╌╌╌╌╌╌╌╌╌╌╌╌╌╌┼╌╌╌╌╌╌╌╌╌╌╌╌┼╌╌╌╌╌╌╌╌╌╌╌╌╌╌╌╌╌┼╌╌╌╌╌╌╌╌╌╌╌╌╌╌╌╌┼╌╌╌╌╌╌╌╌╌╌╌╌╌╌╌╌┼╌╌╌╌╌╌╌╌╌╌╌╌╌╌╌╌┤\n",
      "│ 31504851495943 ┆ 1585891194 ┆ 1.5862e9        ┆ null           ┆ #4560, 80south ┆ lrt-2          │\n",
      "│                ┆            ┆                 ┆                ┆ biloca vi!!age ┆ Consolacion    │\n",
      "│                ┆            ┆                 ┆                ┆ KM...          ┆ 224-A          │\n",
      "│                ┆            ┆                 ┆                ┆                ┆ Paradise...    │\n",
      "├╌╌╌╌╌╌╌╌╌╌╌╌╌╌╌╌┼╌╌╌╌╌╌╌╌╌╌╌╌┼╌╌╌╌╌╌╌╌╌╌╌╌╌╌╌╌╌┼╌╌╌╌╌╌╌╌╌╌╌╌╌╌╌╌┼╌╌╌╌╌╌╌╌╌╌╌╌╌╌╌╌┼╌╌╌╌╌╌╌╌╌╌╌╌╌╌╌╌┤\n",
      "│ 31505199116340 ┆ 1585823923 ┆ 1.5862e9        ┆ 1.5862e9       ┆ b4l13 TOLDA    ┆ (Jeepney       │\n",
      "│                ┆            ┆                 ┆                ┆ 792-A-5-A      ┆ Kaligayan      │\n",
      "│                ┆            ┆                 ┆                ┆ east...nea...  ┆ VANVAN Salud   │\n",
      "│                ┆            ┆                 ┆                ┆                ┆ ...            │\n",
      "└────────────────┴────────────┴─────────────────┴────────────────┴────────────────┴────────────────┘\n"
     ]
    }
   ],
   "source": [
    "def replace(column: str, mapping: dict) -> pl.internals.expr.Expr:\n",
    "\t\"\"\"\n",
    "\tFunction to map cities to indexes\n",
    "\t:param column: columns of polars.Dataframe\n",
    "\t:param mapping: a dictionary of cities and indexes\n",
    "\t:return: mapped Dataframe\n",
    "\t\"\"\"\n",
    "\tif not mapping:\n",
    "\t\traise Exception(\"mapping can't be empty\")\n",
    "\telif not isinstance(mapping, dict):\n",
    "\t\tTypeError(f\"maping must be of type dict, but is type: {type(mapping)}\")\n",
    "\tif not isinstance(column, str):\n",
    "\t\traise TypeError(f\"column must be of type str, but is type: {type(column)}\")\n",
    "\n",
    "\t#initiate the expression with pl.when\n",
    "\tbranch = pl.when(pl.col(column) == list(mapping.keys())[0]) \\\n",
    "\t\t\t\t.then(list(mapping.values())[0])\n",
    "\t#for every value add a when.then\n",
    "\tfor from_val, to_val in mapping.items():\n",
    "\t\tbranch = branch.when(pl.col(column) == from_val) \\\n",
    "\t\t\t\t\t\t.then(to_val)\n",
    "\n",
    "\treturn branch.otherwise(list(mapping.values()) [-1]).alias(column)\n"
   ],
   "metadata": {
    "collapsed": false
   }
  },
  {
   "cell_type": "code",
   "execution_count": 8,
   "outputs": [],
   "source": [
    "print(df)"
   ],
   "metadata": {
    "collapsed": false
   }
  },
  {
   "cell_type": "code",
   "execution_count": 9,
   "outputs": [],
   "source": [
    "def convert_time_date(column):\n",
    "\treturn (\n",
    "\t\tpl.col(column)\n",
    "\t\t.map(lambda x: (x + GMT8_OFFSET)/DURATION_1DAY)\n",
    "\t\t.cast(pl.Int32)\n",
    "\t\t.alias(column)\n",
    "\t)"
   ],
   "metadata": {
    "collapsed": false
   }
  },
  {
   "cell_type": "code",
   "execution_count": 10,
   "outputs": [],
   "source": [
    "def compute_working_days(df):\n",
    "\tt1 = df.select(convert_time_date(\"pick\")).to_numpy().astype('datetime64[D]')\n",
    "\tt2 = df.select(convert_time_date(\"1st_deliver_attempt\")).to_numpy().astype('datetime64[D]')\n",
    "\tt3 = df.select(convert_time_date(\"2nd_deliver_attempt\").fill_null(strategy='zero')).to_numpy().astype('datetime64[D]')\n",
    "\n",
    "\tnum_days1 = np.busday_count(t1, t2, weekmask=WORKDAYS, holidays=HOLIDAYS).flatten()\n",
    "\tnum_days2 = np.busday_count(t2, t3, weekmask=WORKDAYS, holidays=HOLIDAYS).flatten()\n",
    "\treturn num_days1, num_days2\n",
    "\n"
   ],
   "metadata": {
    "collapsed": false
   }
  },
  {
   "cell_type": "code",
   "execution_count": 11,
   "outputs": [
    {
     "name": "stdout",
     "output_type": "stream",
     "text": [
      "CPU times: user 2.49 s, sys: 89.8 ms, total: 2.58 s\n",
      "Wall time: 1.56 s\n"
     ]
    }
   ],
   "source": [
    "num_days1, num_days2 = compute_working_days(df)"
   ],
   "metadata": {
    "collapsed": false
   }
  },
  {
   "cell_type": "code",
   "execution_count": 12,
   "outputs": [
    {
     "data": {
      "text/plain": "shape: (3176313, 9)\n┌───────────────┬───────┬────────────┬────────────┬─────┬────────────┬─────┬───────────┬───────────┐\n│ orderid       ┆ pick  ┆ 1st_delive ┆ 2nd_delive ┆ ... ┆ selleraddr ┆ sla ┆ num_days1 ┆ num_days2 │\n│ ---           ┆ ---   ┆ r_attempt  ┆ r_attempt  ┆     ┆ ess        ┆ --- ┆ ---       ┆ ---       │\n│ i64           ┆ i32   ┆ ---        ┆ ---        ┆     ┆ ---        ┆ i32 ┆ i64       ┆ i64       │\n│               ┆       ┆ i32        ┆ i32        ┆     ┆ i32        ┆     ┆           ┆           │\n╞═══════════════╪═══════╪════════════╪════════════╪═════╪════════════╪═════╪═══════════╪═══════════╡\n│ 2215676524    ┆ 18323 ┆ 18326      ┆ 0          ┆ ... ┆ 0          ┆ 3   ┆ 3         ┆ -15708    │\n├╌╌╌╌╌╌╌╌╌╌╌╌╌╌╌┼╌╌╌╌╌╌╌┼╌╌╌╌╌╌╌╌╌╌╌╌┼╌╌╌╌╌╌╌╌╌╌╌╌┼╌╌╌╌╌┼╌╌╌╌╌╌╌╌╌╌╌╌┼╌╌╌╌╌┼╌╌╌╌╌╌╌╌╌╌╌┼╌╌╌╌╌╌╌╌╌╌╌┤\n│ 2219624609    ┆ 18325 ┆ 18327      ┆ 18331      ┆ ... ┆ 0          ┆ 3   ┆ 2         ┆ 3         │\n├╌╌╌╌╌╌╌╌╌╌╌╌╌╌╌┼╌╌╌╌╌╌╌┼╌╌╌╌╌╌╌╌╌╌╌╌┼╌╌╌╌╌╌╌╌╌╌╌╌┼╌╌╌╌╌┼╌╌╌╌╌╌╌╌╌╌╌╌┼╌╌╌╌╌┼╌╌╌╌╌╌╌╌╌╌╌┼╌╌╌╌╌╌╌╌╌╌╌┤\n│ 2220979489    ┆ 18325 ┆ 18327      ┆ 0          ┆ ... ┆ 0          ┆ 3   ┆ 2         ┆ -15709    │\n├╌╌╌╌╌╌╌╌╌╌╌╌╌╌╌┼╌╌╌╌╌╌╌┼╌╌╌╌╌╌╌╌╌╌╌╌┼╌╌╌╌╌╌╌╌╌╌╌╌┼╌╌╌╌╌┼╌╌╌╌╌╌╌╌╌╌╌╌┼╌╌╌╌╌┼╌╌╌╌╌╌╌╌╌╌╌┼╌╌╌╌╌╌╌╌╌╌╌┤\n│ 2221066352    ┆ 18326 ┆ 18328      ┆ 0          ┆ ... ┆ 0          ┆ 7   ┆ 2         ┆ -15710    │\n├╌╌╌╌╌╌╌╌╌╌╌╌╌╌╌┼╌╌╌╌╌╌╌┼╌╌╌╌╌╌╌╌╌╌╌╌┼╌╌╌╌╌╌╌╌╌╌╌╌┼╌╌╌╌╌┼╌╌╌╌╌╌╌╌╌╌╌╌┼╌╌╌╌╌┼╌╌╌╌╌╌╌╌╌╌╌┼╌╌╌╌╌╌╌╌╌╌╌┤\n│ ...           ┆ ...   ┆ ...        ┆ ...        ┆ ... ┆ ...        ┆ ... ┆ ...       ┆ ...       │\n├╌╌╌╌╌╌╌╌╌╌╌╌╌╌╌┼╌╌╌╌╌╌╌┼╌╌╌╌╌╌╌╌╌╌╌╌┼╌╌╌╌╌╌╌╌╌╌╌╌┼╌╌╌╌╌┼╌╌╌╌╌╌╌╌╌╌╌╌┼╌╌╌╌╌┼╌╌╌╌╌╌╌╌╌╌╌┼╌╌╌╌╌╌╌╌╌╌╌┤\n│ 3150414735222 ┆ 18355 ┆ 18358      ┆ 18359      ┆ ... ┆ 0          ┆ 3   ┆ 2         ┆ 1         │\n│ 7             ┆       ┆            ┆            ┆     ┆            ┆     ┆           ┆           │\n├╌╌╌╌╌╌╌╌╌╌╌╌╌╌╌┼╌╌╌╌╌╌╌┼╌╌╌╌╌╌╌╌╌╌╌╌┼╌╌╌╌╌╌╌╌╌╌╌╌┼╌╌╌╌╌┼╌╌╌╌╌╌╌╌╌╌╌╌┼╌╌╌╌╌┼╌╌╌╌╌╌╌╌╌╌╌┼╌╌╌╌╌╌╌╌╌╌╌┤\n│ 3150446229048 ┆ 18354 ┆ 18356      ┆ 0          ┆ ... ┆ 0          ┆ 3   ┆ 2         ┆ -15731    │\n│ 2             ┆       ┆            ┆            ┆     ┆            ┆     ┆           ┆           │\n├╌╌╌╌╌╌╌╌╌╌╌╌╌╌╌┼╌╌╌╌╌╌╌┼╌╌╌╌╌╌╌╌╌╌╌╌┼╌╌╌╌╌╌╌╌╌╌╌╌┼╌╌╌╌╌┼╌╌╌╌╌╌╌╌╌╌╌╌┼╌╌╌╌╌┼╌╌╌╌╌╌╌╌╌╌╌┼╌╌╌╌╌╌╌╌╌╌╌┤\n│ 3150485149594 ┆ 18355 ┆ 18359      ┆ 0          ┆ ... ┆ 0          ┆ 5   ┆ 3         ┆ -15733    │\n│ 3             ┆       ┆            ┆            ┆     ┆            ┆     ┆           ┆           │\n├╌╌╌╌╌╌╌╌╌╌╌╌╌╌╌┼╌╌╌╌╌╌╌┼╌╌╌╌╌╌╌╌╌╌╌╌┼╌╌╌╌╌╌╌╌╌╌╌╌┼╌╌╌╌╌┼╌╌╌╌╌╌╌╌╌╌╌╌┼╌╌╌╌╌┼╌╌╌╌╌╌╌╌╌╌╌┼╌╌╌╌╌╌╌╌╌╌╌┤\n│ 3150519911634 ┆ 18354 ┆ 18358      ┆ 18359      ┆ ... ┆ 0          ┆ 5   ┆ 3         ┆ 1         │\n│ 0             ┆       ┆            ┆            ┆     ┆            ┆     ┆           ┆           │\n└───────────────┴───────┴────────────┴────────────┴─────┴────────────┴─────┴───────────┴───────────┘",
      "text/html": "<div>\n<style scoped>\n    .dataframe tbody tr th:only-of-type {\n        vertical-align: middle;\n    }\n\n    .dataframe tbody tr th {\n        vertical-align: top;\n    }\n\n    .dataframe thead th {\n        text-align: right;\n    }\n\n    .dataframe td {\n        white-space: pre;\n    }\n\n    .dataframe td {\n        padding-top: 0;\n    }\n\n    .dataframe td {\n        padding-bottom: 0;\n    }\n\n    .dataframe td {\n        line-height: 95%;\n    }\n</style>\n<table border=\"1\" class=\"dataframe\" >\n<small>shape: (3176313, 9)</small>\n<thead>\n<tr>\n<th>\norderid\n</th>\n<th>\npick\n</th>\n<th>\n1st_deliver_attempt\n</th>\n<th>\n2nd_deliver_attempt\n</th>\n<th>\nbuyeraddress\n</th>\n<th>\nselleraddress\n</th>\n<th>\nsla\n</th>\n<th>\nnum_days1\n</th>\n<th>\nnum_days2\n</th>\n</tr>\n<tr>\n<td>\ni64\n</td>\n<td>\ni32\n</td>\n<td>\ni32\n</td>\n<td>\ni32\n</td>\n<td>\ni32\n</td>\n<td>\ni32\n</td>\n<td>\ni32\n</td>\n<td>\ni64\n</td>\n<td>\ni64\n</td>\n</tr>\n</thead>\n<tbody>\n<tr>\n<td>\n2215676524\n</td>\n<td>\n18323\n</td>\n<td>\n18326\n</td>\n<td>\n0\n</td>\n<td>\n0\n</td>\n<td>\n0\n</td>\n<td>\n3\n</td>\n<td>\n3\n</td>\n<td>\n-15708\n</td>\n</tr>\n<tr>\n<td>\n2219624609\n</td>\n<td>\n18325\n</td>\n<td>\n18327\n</td>\n<td>\n18331\n</td>\n<td>\n0\n</td>\n<td>\n0\n</td>\n<td>\n3\n</td>\n<td>\n2\n</td>\n<td>\n3\n</td>\n</tr>\n<tr>\n<td>\n2220979489\n</td>\n<td>\n18325\n</td>\n<td>\n18327\n</td>\n<td>\n0\n</td>\n<td>\n0\n</td>\n<td>\n0\n</td>\n<td>\n3\n</td>\n<td>\n2\n</td>\n<td>\n-15709\n</td>\n</tr>\n<tr>\n<td>\n2221066352\n</td>\n<td>\n18326\n</td>\n<td>\n18328\n</td>\n<td>\n0\n</td>\n<td>\n3\n</td>\n<td>\n0\n</td>\n<td>\n7\n</td>\n<td>\n2\n</td>\n<td>\n-15710\n</td>\n</tr>\n<tr>\n<td>\n2222478803\n</td>\n<td>\n18325\n</td>\n<td>\n18327\n</td>\n<td>\n0\n</td>\n<td>\n1\n</td>\n<td>\n0\n</td>\n<td>\n5\n</td>\n<td>\n2\n</td>\n<td>\n-15709\n</td>\n</tr>\n<tr>\n<td>\n2222597288\n</td>\n<td>\n18325\n</td>\n<td>\n18328\n</td>\n<td>\n0\n</td>\n<td>\n0\n</td>\n<td>\n0\n</td>\n<td>\n3\n</td>\n<td>\n3\n</td>\n<td>\n-15710\n</td>\n</tr>\n<tr>\n<td>\n2222738456\n</td>\n<td>\n18323\n</td>\n<td>\n18326\n</td>\n<td>\n18330\n</td>\n<td>\n0\n</td>\n<td>\n3\n</td>\n<td>\n7\n</td>\n<td>\n3\n</td>\n<td>\n3\n</td>\n</tr>\n<tr>\n<td>\n2224695304\n</td>\n<td>\n18323\n</td>\n<td>\n18331\n</td>\n<td>\n0\n</td>\n<td>\n0\n</td>\n<td>\n3\n</td>\n<td>\n7\n</td>\n<td>\n7\n</td>\n<td>\n-15712\n</td>\n</tr>\n<tr>\n<td>\n2224704587\n</td>\n<td>\n18325\n</td>\n<td>\n18326\n</td>\n<td>\n18330\n</td>\n<td>\n1\n</td>\n<td>\n0\n</td>\n<td>\n5\n</td>\n<td>\n1\n</td>\n<td>\n3\n</td>\n</tr>\n<tr>\n<td>\n2225138267\n</td>\n<td>\n18325\n</td>\n<td>\n18331\n</td>\n<td>\n0\n</td>\n<td>\n2\n</td>\n<td>\n0\n</td>\n<td>\n7\n</td>\n<td>\n5\n</td>\n<td>\n-15712\n</td>\n</tr>\n<tr>\n<td>\n2225861241\n</td>\n<td>\n18328\n</td>\n<td>\n18331\n</td>\n<td>\n0\n</td>\n<td>\n0\n</td>\n<td>\n0\n</td>\n<td>\n3\n</td>\n<td>\n2\n</td>\n<td>\n-15712\n</td>\n</tr>\n<tr>\n<td>\n2226935316\n</td>\n<td>\n18323\n</td>\n<td>\n18326\n</td>\n<td>\n0\n</td>\n<td>\n1\n</td>\n<td>\n3\n</td>\n<td>\n7\n</td>\n<td>\n3\n</td>\n<td>\n-15708\n</td>\n</tr>\n<tr>\n<td>\n...\n</td>\n<td>\n...\n</td>\n<td>\n...\n</td>\n<td>\n...\n</td>\n<td>\n...\n</td>\n<td>\n...\n</td>\n<td>\n...\n</td>\n<td>\n...\n</td>\n<td>\n...\n</td>\n</tr>\n<tr>\n<td>\n31501334465889\n</td>\n<td>\n18354\n</td>\n<td>\n18356\n</td>\n<td>\n0\n</td>\n<td>\n3\n</td>\n<td>\n0\n</td>\n<td>\n7\n</td>\n<td>\n2\n</td>\n<td>\n-15731\n</td>\n</tr>\n<tr>\n<td>\n31501424794332\n</td>\n<td>\n18354\n</td>\n<td>\n18358\n</td>\n<td>\n0\n</td>\n<td>\n2\n</td>\n<td>\n0\n</td>\n<td>\n7\n</td>\n<td>\n3\n</td>\n<td>\n-15732\n</td>\n</tr>\n<tr>\n<td>\n31501457052965\n</td>\n<td>\n18355\n</td>\n<td>\n18358\n</td>\n<td>\n0\n</td>\n<td>\n0\n</td>\n<td>\n3\n</td>\n<td>\n7\n</td>\n<td>\n2\n</td>\n<td>\n-15732\n</td>\n</tr>\n<tr>\n<td>\n31501925224145\n</td>\n<td>\n18356\n</td>\n<td>\n18359\n</td>\n<td>\n0\n</td>\n<td>\n1\n</td>\n<td>\n0\n</td>\n<td>\n5\n</td>\n<td>\n2\n</td>\n<td>\n-15733\n</td>\n</tr>\n<tr>\n<td>\n31502339045455\n</td>\n<td>\n18355\n</td>\n<td>\n18359\n</td>\n<td>\n0\n</td>\n<td>\n0\n</td>\n<td>\n0\n</td>\n<td>\n3\n</td>\n<td>\n3\n</td>\n<td>\n-15733\n</td>\n</tr>\n<tr>\n<td>\n31502490611412\n</td>\n<td>\n18354\n</td>\n<td>\n18356\n</td>\n<td>\n18358\n</td>\n<td>\n1\n</td>\n<td>\n0\n</td>\n<td>\n5\n</td>\n<td>\n2\n</td>\n<td>\n1\n</td>\n</tr>\n<tr>\n<td>\n31503788156046\n</td>\n<td>\n18355\n</td>\n<td>\n18356\n</td>\n<td>\n0\n</td>\n<td>\n0\n</td>\n<td>\n0\n</td>\n<td>\n3\n</td>\n<td>\n1\n</td>\n<td>\n-15731\n</td>\n</tr>\n<tr>\n<td>\n31504087640510\n</td>\n<td>\n18354\n</td>\n<td>\n18356\n</td>\n<td>\n0\n</td>\n<td>\n0\n</td>\n<td>\n0\n</td>\n<td>\n3\n</td>\n<td>\n2\n</td>\n<td>\n-15731\n</td>\n</tr>\n<tr>\n<td>\n31504147352227\n</td>\n<td>\n18355\n</td>\n<td>\n18358\n</td>\n<td>\n18359\n</td>\n<td>\n0\n</td>\n<td>\n0\n</td>\n<td>\n3\n</td>\n<td>\n2\n</td>\n<td>\n1\n</td>\n</tr>\n<tr>\n<td>\n31504462290482\n</td>\n<td>\n18354\n</td>\n<td>\n18356\n</td>\n<td>\n0\n</td>\n<td>\n0\n</td>\n<td>\n0\n</td>\n<td>\n3\n</td>\n<td>\n2\n</td>\n<td>\n-15731\n</td>\n</tr>\n<tr>\n<td>\n31504851495943\n</td>\n<td>\n18355\n</td>\n<td>\n18359\n</td>\n<td>\n0\n</td>\n<td>\n1\n</td>\n<td>\n0\n</td>\n<td>\n5\n</td>\n<td>\n3\n</td>\n<td>\n-15733\n</td>\n</tr>\n<tr>\n<td>\n31505199116340\n</td>\n<td>\n18354\n</td>\n<td>\n18358\n</td>\n<td>\n18359\n</td>\n<td>\n1\n</td>\n<td>\n0\n</td>\n<td>\n5\n</td>\n<td>\n3\n</td>\n<td>\n1\n</td>\n</tr>\n</tbody>\n</table>\n</div>"
     },
     "execution_count": 12,
     "metadata": {},
     "output_type": "execute_result"
    }
   ],
   "source": [
    "%%time\n",
    "result = (df\n",
    "\t\t  .with_columns([\n",
    "\t\t\t\t\t\tpl.col(\"buyeraddress\").str.slice(-min_length).str.to_lowercase(),\n",
    "\t\t\t\t\t\tpl.col(\"selleraddress\").str.slice(-min_length).str.to_lowercase(),\n",
    "\t\t\t\t\t\tpl.col(\"2nd_deliver_attempt\").fill_null(0).cast(pl.Int32)])\n",
    "\t\t  .with_columns([replace(\"buyeraddress\", trunc_location_to_index),\n",
    "\t\t\t\t\t\t replace(\"selleraddress\", trunc_location_to_index)])\n",
    "\t\t  .with_columns((4 * pl.col(\"buyeraddress\") + pl.col(\"selleraddress\")).cast(pl.Int32).alias(\"sla\"))\n",
    "\t\t  .with_columns([replace(\"sla\", map_to_dict),\n",
    "\t\t\t\t\t\t convert_time_date(\"pick\"),\n",
    "\t\t\t\t\t\t convert_time_date(\"1st_deliver_attempt\"),\n",
    "\t\t\t\t\t\t convert_time_date(\"2nd_deliver_attempt\"),\n",
    "\t\t\t\t\t\t pl.Series(name='num_days1', values=num_days1),\n",
    "\t\t\t\t\t\t pl.Series(name='num_days2', values=num_days2)])\n",
    "\t\t  )\n",
    "\n"
   ],
   "metadata": {
    "collapsed": false
   }
  },
  {
   "cell_type": "code",
   "execution_count": null,
   "outputs": [],
   "source": [
    "result"
   ],
   "metadata": {
    "collapsed": false
   }
  },
  {
   "cell_type": "code",
   "execution_count": null,
   "outputs": [],
   "source": [
    "\n",
    "(\n",
    "\tresult\n",
    "\t.with_columns(pl.when((pl.col(\"num_days1\") > pl.col(\"sla\")) | (pl.col(\"num_days2\") > 3))\n",
    "\t\t\t\t  \t.then(pl.lit(1, pl.Int32))\n",
    "\t\t\t\t  \t.otherwise(pl.lit(0, pl.Int32))\n",
    "\t\t\t\t  \t.alias(\"is_late\"))\n",
    "\t.select([\"orderid\", \"is_late\"])\n",
    "\t.write_csv('submission_polars')\n",
    ")"
   ],
   "metadata": {
    "collapsed": false
   }
  }
 ],
 "metadata": {
  "kernelspec": {
   "display_name": "Python 3",
   "language": "python",
   "name": "python3"
  },
  "language_info": {
   "codemirror_mode": {
    "name": "ipython",
    "version": 2
   },
   "file_extension": ".py",
   "mimetype": "text/x-python",
   "name": "python",
   "nbconvert_exporter": "python",
   "pygments_lexer": "ipython2",
   "version": "2.7.6"
  }
 },
 "nbformat": 4,
 "nbformat_minor": 0
}
