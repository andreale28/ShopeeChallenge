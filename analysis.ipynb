{
 "cells": [
  {
   "cell_type": "code",
   "execution_count": 1,
   "metadata": {
    "collapsed": true
   },
   "outputs": [],
   "source": [
    "import modin.pandas as pd\n",
    "import numpy as np\n",
    "# import ray\n",
    "# ray.init(runtime_env={'env_vars': {'__MODIN_AUTOIMPORT_PANDAS__': '1'}})"
   ]
  },
  {
   "cell_type": "code",
   "execution_count": 3,
   "metadata": {},
   "outputs": [
    {
     "name": "stdout",
     "output_type": "stream",
     "text": [
      "CPU times: user 709 ms, sys: 427 ms, total: 1.14 s\n",
      "Wall time: 12.5 s\n"
     ]
    }
   ],
   "source": [
    "%%time\n",
    "dtype = {'orderid'            : 'int64',\n",
    "         'pick'               : 'int64',\n",
    "         '1st_deliver_attempt': 'int64',\n",
    "         '2nd_deliver_attempt': 'float64',\n",
    "         'buyeraddress'       : 'object',\n",
    "         'selleraddress'      : 'object'}\n",
    "\n",
    "df = pd.read_csv(\"/Users/sonle/Documents/Data/delivery_orders_march.csv\", dtype=dtype)"
   ]
  },
  {
   "cell_type": "code",
   "execution_count": 4,
   "metadata": {},
   "outputs": [
    {
     "name": "stdout",
     "output_type": "stream",
     "text": [
      "{'metro manila': 0, 'luzon': 1, 'visayas': 2, 'mindanao': 3}\n",
      "{'anila': 0, 'luzon': 1, 'sayas': 2, 'danao': 3}\n"
     ]
    }
   ],
   "source": [
    "WORKDAYS = '1111110'\n",
    "HOLIDAYS = ['2020-03-08', '2020-03-25', '2020-03-30', '2020-03-31']\n",
    "\n",
    "GMT8_OFFSET = 3600 * 8\n",
    "DURATION_1DAY = 3600 * 24\n",
    "\n",
    "sla_matrix_1st_attempt = [\n",
    "\t[3, 5, 7, 7],\n",
    "\t[5, 5, 7, 7],\n",
    "\t[7, 7, 7, 7],\n",
    "\t[7, 7, 7, 7]\n",
    "]\n",
    "\n",
    "sla_matrix_2nd_attempt = [\n",
    "\t[3, 3, 3, 3],\n",
    "\t[3, 3, 3, 3],\n",
    "\t[3, 3, 3, 3],\n",
    "\t[3, 3, 3, 3]\n",
    "]\n",
    "locations = [\"Metro Manila\", \"Luzon\", \"Visayas\", \"Mindanao\"]\n",
    "locations = [loc.lower() for loc in locations]\n",
    "location_to_index = {loc: i for i, loc in enumerate(locations)}\n",
    "print(location_to_index)\n",
    "\n",
    "min_length = min(map(len, locations))\n",
    "trunc_location_to_index = {loc [-min_length:]: i for i, loc in enumerate(locations)}\n",
    "print(trunc_location_to_index)"
   ]
  },
  {
   "cell_type": "code",
   "execution_count": 5,
   "metadata": {},
   "outputs": [],
   "source": [
    "map_to_dict = dict(enumerate(np.array(sla_matrix_1st_attempt).flatten()))"
   ]
  },
  {
   "cell_type": "code",
   "execution_count": 6,
   "outputs": [],
   "source": [
    "def tweak_result(df: pd.DataFrame) -> pd.DataFrame:\n",
    "\tdef convert_address(df):\n",
    "\t\t\"\"\"\n",
    "        Function to convert address to given index\n",
    "        :param df: original df\n",
    "        :return: Updated buyeraddress and selleraddress with exact index of cites\n",
    "        \"\"\"\n",
    "\t\t# df_['buyeraddress'] = df_['buyeraddress'].apply(lambda x: x[-min_length:].lower()).map(trunc_location_to_index)\n",
    "\t\t# df_['selleraddress'] = df_['selleraddress'].apply(lambda x: x[-min_length:].lower()).map(trunc_location_to_index)\n",
    "\t\treturn (df.assign(\n",
    "\t\t\t\tbuyeraddress=df.buyeraddress.apply(lambda x: x [-min_length:].lower()).map(trunc_location_to_index),\n",
    "\t\t\t\tselleraddress=df.selleraddress.apply(lambda x: x [-min_length:].lower()).map(trunc_location_to_index)))\n",
    "\n",
    "\tdef convert_time_todate(df):\n",
    "\t\t\"\"\"\n",
    "        Function to fill NaN and convert time to second\n",
    "        :param df: original df\n",
    "        :return: df with ['pick', '1st_deliver_attempt', '2nd_deliver_attempt'] in second\n",
    "        \"\"\"\n",
    "\t\tdf ['2nd_deliver_attempt'] = df ['2nd_deliver_attempt'].fillna(0).astype(np.int64)\n",
    "\t\tcols = ['pick', '1st_deliver_attempt', '2nd_deliver_attempt']\n",
    "\t\tdf [cols] = df [cols].applymap(lambda x: (x + GMT8_OFFSET) // DURATION_1DAY)\n",
    "\t\treturn df\n",
    "\n",
    "\tdef convert_working_days(df):\n",
    "\t\t\"\"\"\n",
    "        Function to calculate the transit time\n",
    "        :param df: original df\n",
    "        :return: df with two new columns NUM_DAYS1 and NUM_DAYS2 as transit time\n",
    "        \"\"\"\n",
    "\t\tt1 = df ['pick'].values.astype('datetime64[D]')\n",
    "\t\tt2 = df ['1st_deliver_attempt'].values.astype('datetime64[D]')\n",
    "\t\tt3 = df ['2nd_deliver_attempt'].values.astype('datetime64[D]')\n",
    "\t\treturn (df\n",
    "\t\t        .assign(NUM_DAYS1=lambda x: np.busday_count(t1, t2, weekmask=WORKDAYS, holidays=HOLIDAYS),\n",
    "\t\t                NUM_DAYS2=lambda x: np.busday_count(t2, t3, weekmask=WORKDAYS, holidays=HOLIDAYS))\n",
    "\t\t        )\n",
    "\n",
    "\tdef computing_sla(df):\n",
    "\t\t\"\"\"\n",
    "        Function to calculate the sla time\n",
    "        :param df: original df\n",
    "        :return: df with new sla column\n",
    "        \"\"\"\n",
    "\t\treturn (\n",
    "\t\t\tdf.assign(temp_col=lambda x: 4 * x.buyeraddress + x.selleraddress,\n",
    "\t\t\t          sla1=lambda x: x.temp_col.map(map_to_dict))\n",
    "\t\t\t.drop(columns=['temp_col']))\n",
    "\n",
    "\treturn (df.pipe(convert_address)\n",
    "\t        .pipe(convert_time_todate)\n",
    "\t        .pipe(convert_working_days)\n",
    "\t        .pipe(computing_sla)\n",
    "\t        )\n"
   ],
   "metadata": {
    "collapsed": false
   }
  },
  {
   "cell_type": "code",
   "execution_count": 7,
   "outputs": [
    {
     "name": "stdout",
     "output_type": "stream",
     "text": [
      "CPU times: user 27.1 s, sys: 1.8 s, total: 28.9 s\n",
      "Wall time: 52.8 s\n"
     ]
    }
   ],
   "source": [
    "%%time\n",
    "result = tweak_result(df)"
   ],
   "metadata": {
    "collapsed": false
   }
  },
  {
   "cell_type": "code",
   "execution_count": 9,
   "outputs": [
    {
     "name": "stdout",
     "output_type": "stream",
     "text": [
      "\u001B[2m\u001B[1m\u001B[36m(scheduler +5m12s)\u001B[0m Tip: use `ray status` to view detailed cluster status. To disable these messages, set RAY_SCHEDULER_EVENTS=0.\n",
      "\u001B[2m\u001B[1m\u001B[33m(scheduler +5m12s)\u001B[0m Warning: The following resource request cannot be scheduled right now: {'CPU': 1.0}. This is likely due to all cluster resources being claimed by actors. Consider creating fewer actors or adding more nodes to this Ray cluster.\n"
     ]
    },
    {
     "data": {
      "text/plain": "is_late\n0    0.759966\n1    0.240034\ndtype: float64"
     },
     "metadata": {},
     "output_type": "display_data"
    },
    {
     "name": "stdout",
     "output_type": "stream",
     "text": [
      "CPU times: user 661 ms, sys: 404 ms, total: 1.07 s\n",
      "Wall time: 5.15 s\n"
     ]
    }
   ],
   "source": [
    "%%time\n",
    "display(\n",
    "\t\tresult\n",
    "\t\t.assign(is_late=(result.NUM_DAYS1 > result.sla1) | (result.NUM_DAYS2 > 3))\n",
    "\t\t.astype(int)\n",
    "\t\t.loc [:, ['is_late']].value_counts(normalize=True)\n",
    "\t\t# .to_csv('submission.csv', index=False) this line is to export the submission file if needed\n",
    ")"
   ],
   "metadata": {
    "collapsed": false
   }
  },
  {
   "cell_type": "markdown",
   "source": [],
   "metadata": {
    "collapsed": false
   }
  }
 ],
 "metadata": {
  "kernelspec": {
   "display_name": "Python 3 (ipykernel)",
   "language": "python",
   "name": "python3"
  },
  "language_info": {
   "codemirror_mode": {
    "name": "ipython",
    "version": 3
   },
   "file_extension": ".py",
   "mimetype": "text/x-python",
   "name": "python",
   "nbconvert_exporter": "python",
   "pygments_lexer": "ipython3",
   "version": "3.9.14"
  }
 },
 "nbformat": 4,
 "nbformat_minor": 1
}
