{
 "cells": [
  {
   "cell_type": "code",
   "execution_count": 1,
   "metadata": {
    "collapsed": true
   },
   "outputs": [],
   "source": [
    "import modin.pandas as pd\n",
    "import numpy as np\n",
    "# import ray\n",
    "# ray.init(runtime_env={'env_vars': {'__MODIN_AUTOIMPORT_PANDAS__': '1'}})"
   ]
  },
  {
   "cell_type": "code",
   "execution_count": null,
   "metadata": {
    "pycharm": {
     "is_executing": true
    }
   },
   "outputs": [],
   "source": [
    "%%time\n",
    "dtype = {'orderid'            : 'int64',\n",
    "         'pick'               : 'int64',\n",
    "         '1st_deliver_attempt': 'int64',\n",
    "         '2nd_deliver_attempt': 'float64',\n",
    "         'buyeraddress'       : 'object',\n",
    "         'selleraddress'      : 'object'}\n",
    "\n",
    "df = pd.read_csv('/Users/sonle/Documents/Shopee/delivery_orders_march.csv', dtype=dtype)"
   ]
  },
  {
   "cell_type": "code",
   "execution_count": 3,
   "metadata": {},
   "outputs": [
    {
     "name": "stdout",
     "output_type": "stream",
     "text": [
      "{'metro manila': 0, 'luzon': 1, 'visayas': 2, 'mindanao': 3}\n",
      "{'anila': 0, 'luzon': 1, 'sayas': 2, 'danao': 3}\n"
     ]
    }
   ],
   "source": [
    "WORKDAYS = '1111110'\n",
    "HOLIDAYS = ['2020-03-08','2020-03-25', '2020-03-30', '2020-03-31']\n",
    "\n",
    "GMT8_OFFSET = 3600 * 8\n",
    "DURATION_1DAY = 3600 * 24\n",
    "\n",
    "sla_matrix_1st_attempt = [\n",
    "\t[3, 5, 7, 7],\n",
    "\t[5, 5, 7, 7],\n",
    "\t[7, 7, 7, 7],\n",
    "\t[7, 7, 7, 7]\n",
    "]\n",
    "\n",
    "sla_matrix_2nd_attempt =[\n",
    "\t[3, 3, 3, 3],\n",
    "\t[3, 3, 3, 3],\n",
    "\t[3, 3, 3, 3],\n",
    "\t[3, 3, 3, 3]\n",
    "]\n",
    "locations = [\"Metro Manila\", \"Luzon\", \"Visayas\", \"Mindanao\"]\n",
    "locations = [loc.lower() for loc in locations]\n",
    "location_to_index = {loc: i for i, loc in enumerate(locations)}\n",
    "print(location_to_index)\n",
    "\n",
    "min_length = min(map(len, locations))\n",
    "trunc_location_to_index = {loc[-min_length:]: i for i, loc in enumerate(locations)}\n",
    "print(trunc_location_to_index)"
   ]
  },
  {
   "cell_type": "code",
   "execution_count": 4,
   "metadata": {},
   "outputs": [],
   "source": [
    "map_to_dict = dict(enumerate(np.array(sla_matrix_1st_attempt).flatten()))"
   ]
  },
  {
   "cell_type": "code",
   "execution_count": 5,
   "outputs": [],
   "source": [
    "def tweak_result(df: pd.DataFrame) -> pd.DataFrame:\n",
    "        def convert_address(df):\n",
    "            \"\"\"\n",
    "            Function to convert address to given index\n",
    "            :param df: original df\n",
    "            :return: Updated buyeraddress and selleraddress with exact index of cites\n",
    "            \"\"\"\n",
    "            # df_['buyeraddress'] = df_['buyeraddress'].apply(lambda x: x[-min_length:].lower()).map(trunc_location_to_index)\n",
    "            # df_['selleraddress'] = df_['selleraddress'].apply(lambda x: x[-min_length:].lower()).map(trunc_location_to_index)\n",
    "            return (df.assign(\n",
    "                    buyeraddress=df.buyeraddress.apply(lambda x: x [-min_length:].lower()).map(trunc_location_to_index),\n",
    "                    selleraddress=df.selleraddress.apply(lambda x: x [-min_length:].lower()).map(trunc_location_to_index)))\n",
    "\n",
    "        def convert_time_todate(df):\n",
    "            \"\"\"\n",
    "            Function to fill NaN and convert time to second\n",
    "            :param df: original df\n",
    "            :return: df with ['pick', '1st_deliver_attempt', '2nd_deliver_attempt'] in second\n",
    "            \"\"\"\n",
    "            df ['2nd_deliver_attempt'] = df ['2nd_deliver_attempt'].fillna(0).astype(np.int64)\n",
    "            cols = ['pick', '1st_deliver_attempt', '2nd_deliver_attempt']\n",
    "            df [cols] = df [cols].applymap(lambda x: (x + GMT8_OFFSET) // DURATION_1DAY)\n",
    "            return df\n",
    "\n",
    "\n",
    "        def convert_working_days(df):\n",
    "            \"\"\"\n",
    "            Function to calculate the transit time\n",
    "            :param df: original df\n",
    "            :return: df with two new columns NUM_DAYS1 and NUM_DAYS2 as transit time\n",
    "            \"\"\"\n",
    "            t1 = df ['pick'].values.astype('datetime64[D]')\n",
    "            t2 = df ['1st_deliver_attempt'].values.astype('datetime64[D]')\n",
    "            t3 = df ['2nd_deliver_attempt'].values.astype('datetime64[D]')\n",
    "            return (df\n",
    "                    .assign(NUM_DAYS1=lambda x: np.busday_count(t1, t2, weekmask=WORKDAYS, holidays=HOLIDAYS),\n",
    "                            NUM_DAYS2=lambda x: np.busday_count(t2, t3, weekmask=WORKDAYS, holidays=HOLIDAYS))\n",
    "                    )\n",
    "\n",
    "        def computing_sla(df):\n",
    "            \"\"\"\n",
    "            Function to calculate the sla time\n",
    "            :param df: original df\n",
    "            :return: df with new sla column\n",
    "            \"\"\"\n",
    "            return (\n",
    "                df.assign(temp_col=lambda x: 4 * x.buyeraddress + x.selleraddress,\n",
    "                          sla1=lambda x: x.temp_col.map(map_to_dict))\n",
    "                .drop(columns=['temp_col']))\n",
    "\n",
    "\n",
    "        return (df.pipe(convert_address)\n",
    "                .pipe(convert_time_todate)\n",
    "                .pipe(convert_working_days)\n",
    "                .pipe(computing_sla)\n",
    "                )\n"
   ],
   "metadata": {
    "collapsed": false
   }
  },
  {
   "cell_type": "code",
   "execution_count": 6,
   "outputs": [
    {
     "ename": "NameError",
     "evalue": "name 'df' is not defined",
     "output_type": "error",
     "traceback": [
      "\u001B[0;31m---------------------------------------------------------------------------\u001B[0m",
      "\u001B[0;31mNameError\u001B[0m                                 Traceback (most recent call last)",
      "File \u001B[0;32m<timed exec>:1\u001B[0m\n",
      "\u001B[0;31mNameError\u001B[0m: name 'df' is not defined"
     ]
    }
   ],
   "source": [
    "%%time\n",
    "result = tweak_result(df)"
   ],
   "metadata": {
    "collapsed": false
   }
  },
  {
   "cell_type": "code",
   "execution_count": 21,
   "outputs": [
    {
     "name": "stdout",
     "output_type": "stream",
     "text": [
      "CPU times: user 635 ms, sys: 501 ms, total: 1.14 s\n",
      "Wall time: 3.74 s\n"
     ]
    }
   ],
   "source": [
    "%%time\n",
    "(\n",
    "    result\n",
    "        .assign(is_late = (result.NUM_DAYS1 > result.sla1) |( result.NUM_DAYS2 > 3))\n",
    "        .astype(int)\n",
    "        .loc[:, ['orderid', 'is_late']]\n",
    "        .to_csv('submission.csv', index=False)\n",
    ")"
   ],
   "metadata": {
    "collapsed": false
   }
  },
  {
   "cell_type": "markdown",
   "source": [],
   "metadata": {
    "collapsed": false
   }
  }
 ],
 "metadata": {
  "kernelspec": {
   "display_name": "Python 3 (ipykernel)",
   "language": "python",
   "name": "python3"
  },
  "language_info": {
   "codemirror_mode": {
    "name": "ipython",
    "version": 3
   },
   "file_extension": ".py",
   "mimetype": "text/x-python",
   "name": "python",
   "nbconvert_exporter": "python",
   "pygments_lexer": "ipython3",
   "version": "3.9.14"
  }
 },
 "nbformat": 4,
 "nbformat_minor": 1
}
