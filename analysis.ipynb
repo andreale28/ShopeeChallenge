{
 "cells": [
  {
   "cell_type": "code",
   "execution_count": 1,
   "metadata": {
    "collapsed": true
   },
   "outputs": [],
   "source": [
    "import modin.pandas as pd\n",
    "import numpy as np\n",
    "# import ray\n",
    "# ray.init(runtime_env={'env_vars': {'__MODIN_AUTOIMPORT_PANDAS__': '1'}})"
   ]
  },
  {
   "cell_type": "code",
   "execution_count": 24,
   "metadata": {},
   "outputs": [
    {
     "name": "stderr",
     "output_type": "stream",
     "text": [
      "UserWarning: File has mismatched quotes\n",
      "UserWarning: `read_*` implementation has mismatches with pandas:\n",
      "Data types of partitions are different! Please refer to the troubleshooting section of the Modin documentation to fix this issue.\n"
     ]
    },
    {
     "ename": "TypeError",
     "evalue": "Cannot interpret 'nan' as a data type",
     "output_type": "error",
     "traceback": [
      "\u001B[0;31m---------------------------------------------------------------------------\u001B[0m",
      "\u001B[0;31mTypeError\u001B[0m                                 Traceback (most recent call last)",
      "File \u001B[0;32m<timed exec>:8\u001B[0m\n",
      "File \u001B[0;32m~/Library/Caches/pypoetry/virtualenvs/shopee-RDqjA3PB-py3.9/lib/python3.9/site-packages/modin/logging/logger_decorator.py:128\u001B[0m, in \u001B[0;36menable_logging.<locals>.decorator.<locals>.run_and_log\u001B[0;34m(*args, **kwargs)\u001B[0m\n\u001B[1;32m    113\u001B[0m \u001B[38;5;124;03m\"\"\"\u001B[39;00m\n\u001B[1;32m    114\u001B[0m \u001B[38;5;124;03mCompute function with logging if Modin logging is enabled.\u001B[39;00m\n\u001B[1;32m    115\u001B[0m \n\u001B[0;32m   (...)\u001B[0m\n\u001B[1;32m    125\u001B[0m \u001B[38;5;124;03mAny\u001B[39;00m\n\u001B[1;32m    126\u001B[0m \u001B[38;5;124;03m\"\"\"\u001B[39;00m\n\u001B[1;32m    127\u001B[0m \u001B[38;5;28;01mif\u001B[39;00m LogMode\u001B[38;5;241m.\u001B[39mget() \u001B[38;5;241m==\u001B[39m \u001B[38;5;124m\"\u001B[39m\u001B[38;5;124mdisable\u001B[39m\u001B[38;5;124m\"\u001B[39m:\n\u001B[0;32m--> 128\u001B[0m     \u001B[38;5;28;01mreturn\u001B[39;00m \u001B[43mobj\u001B[49m\u001B[43m(\u001B[49m\u001B[38;5;241;43m*\u001B[39;49m\u001B[43margs\u001B[49m\u001B[43m,\u001B[49m\u001B[43m \u001B[49m\u001B[38;5;241;43m*\u001B[39;49m\u001B[38;5;241;43m*\u001B[39;49m\u001B[43mkwargs\u001B[49m\u001B[43m)\u001B[49m\n\u001B[1;32m    130\u001B[0m logger \u001B[38;5;241m=\u001B[39m get_logger()\n\u001B[1;32m    131\u001B[0m logger_level \u001B[38;5;241m=\u001B[39m \u001B[38;5;28mgetattr\u001B[39m(logger, log_level)\n",
      "File \u001B[0;32m~/Library/Caches/pypoetry/virtualenvs/shopee-RDqjA3PB-py3.9/lib/python3.9/site-packages/modin/_compat/pandas_api/latest/io.py:156\u001B[0m, in \u001B[0;36mread_csv\u001B[0;34m(filepath_or_buffer, sep, delimiter, header, names, index_col, usecols, squeeze, prefix, mangle_dupe_cols, dtype, engine, converters, true_values, false_values, skipinitialspace, skiprows, nrows, na_values, keep_default_na, na_filter, verbose, skip_blank_lines, parse_dates, infer_datetime_format, keep_date_col, date_parser, dayfirst, cache_dates, iterator, chunksize, compression, thousands, decimal, lineterminator, quotechar, quoting, escapechar, comment, encoding, encoding_errors, dialect, error_bad_lines, warn_bad_lines, on_bad_lines, skipfooter, doublequote, delim_whitespace, low_memory, memory_map, float_precision, storage_options)\u001B[0m\n\u001B[1;32m    154\u001B[0m f_locals\u001B[38;5;241m.\u001B[39mpop(\u001B[38;5;124m\"\u001B[39m\u001B[38;5;124mmangle_dupe_cols\u001B[39m\u001B[38;5;124m\"\u001B[39m, \u001B[38;5;28;01mNone\u001B[39;00m)\n\u001B[1;32m    155\u001B[0m kwargs \u001B[38;5;241m=\u001B[39m {k: v \u001B[38;5;28;01mfor\u001B[39;00m k, v \u001B[38;5;129;01min\u001B[39;00m f_locals\u001B[38;5;241m.\u001B[39mitems() \u001B[38;5;28;01mif\u001B[39;00m k \u001B[38;5;129;01min\u001B[39;00m _pd_read_csv_signature}\n\u001B[0;32m--> 156\u001B[0m \u001B[38;5;28;01mreturn\u001B[39;00m \u001B[43m_read\u001B[49m\u001B[43m(\u001B[49m\u001B[38;5;241;43m*\u001B[39;49m\u001B[38;5;241;43m*\u001B[39;49m\u001B[43mkwargs\u001B[49m\u001B[43m)\u001B[49m\n",
      "File \u001B[0;32m~/Library/Caches/pypoetry/virtualenvs/shopee-RDqjA3PB-py3.9/lib/python3.9/site-packages/modin/_compat/pandas_api/common/io.py:39\u001B[0m, in \u001B[0;36m_read\u001B[0;34m(**kwargs)\u001B[0m\n\u001B[1;32m     36\u001B[0m \u001B[38;5;28;01mfrom\u001B[39;00m \u001B[38;5;21;01mmodin\u001B[39;00m\u001B[38;5;21;01m.\u001B[39;00m\u001B[38;5;21;01mcore\u001B[39;00m\u001B[38;5;21;01m.\u001B[39;00m\u001B[38;5;21;01mexecution\u001B[39;00m\u001B[38;5;21;01m.\u001B[39;00m\u001B[38;5;21;01mdispatching\u001B[39;00m\u001B[38;5;21;01m.\u001B[39;00m\u001B[38;5;21;01mfactories\u001B[39;00m\u001B[38;5;21;01m.\u001B[39;00m\u001B[38;5;21;01mdispatcher\u001B[39;00m \u001B[38;5;28;01mimport\u001B[39;00m FactoryDispatcher\n\u001B[1;32m     38\u001B[0m squeeze \u001B[38;5;241m=\u001B[39m kwargs\u001B[38;5;241m.\u001B[39mpop(\u001B[38;5;124m\"\u001B[39m\u001B[38;5;124msqueeze\u001B[39m\u001B[38;5;124m\"\u001B[39m, \u001B[38;5;28;01mFalse\u001B[39;00m)\n\u001B[0;32m---> 39\u001B[0m pd_obj \u001B[38;5;241m=\u001B[39m \u001B[43mFactoryDispatcher\u001B[49m\u001B[38;5;241;43m.\u001B[39;49m\u001B[43mread_csv\u001B[49m\u001B[43m(\u001B[49m\u001B[38;5;241;43m*\u001B[39;49m\u001B[38;5;241;43m*\u001B[39;49m\u001B[43mkwargs\u001B[49m\u001B[43m)\u001B[49m\n\u001B[1;32m     40\u001B[0m \u001B[38;5;66;03m# This happens when `read_csv` returns a TextFileReader object for iterating through\u001B[39;00m\n\u001B[1;32m     41\u001B[0m \u001B[38;5;28;01mif\u001B[39;00m \u001B[38;5;28misinstance\u001B[39m(pd_obj, pandas\u001B[38;5;241m.\u001B[39mio\u001B[38;5;241m.\u001B[39mparsers\u001B[38;5;241m.\u001B[39mTextFileReader):\n",
      "File \u001B[0;32m~/Library/Caches/pypoetry/virtualenvs/shopee-RDqjA3PB-py3.9/lib/python3.9/site-packages/modin/core/execution/dispatching/factories/dispatcher.py:185\u001B[0m, in \u001B[0;36mFactoryDispatcher.read_csv\u001B[0;34m(cls, **kwargs)\u001B[0m\n\u001B[1;32m    182\u001B[0m \u001B[38;5;129m@classmethod\u001B[39m\n\u001B[1;32m    183\u001B[0m \u001B[38;5;129m@_inherit_docstrings\u001B[39m(factories\u001B[38;5;241m.\u001B[39mBaseFactory\u001B[38;5;241m.\u001B[39m_read_csv)\n\u001B[1;32m    184\u001B[0m \u001B[38;5;28;01mdef\u001B[39;00m \u001B[38;5;21mread_csv\u001B[39m(\u001B[38;5;28mcls\u001B[39m, \u001B[38;5;241m*\u001B[39m\u001B[38;5;241m*\u001B[39mkwargs):\n\u001B[0;32m--> 185\u001B[0m     \u001B[38;5;28;01mreturn\u001B[39;00m \u001B[38;5;28;43mcls\u001B[39;49m\u001B[38;5;241;43m.\u001B[39;49m\u001B[43m__factory\u001B[49m\u001B[38;5;241;43m.\u001B[39;49m\u001B[43m_read_csv\u001B[49m\u001B[43m(\u001B[49m\u001B[38;5;241;43m*\u001B[39;49m\u001B[38;5;241;43m*\u001B[39;49m\u001B[43mkwargs\u001B[49m\u001B[43m)\u001B[49m\n",
      "File \u001B[0;32m~/Library/Caches/pypoetry/virtualenvs/shopee-RDqjA3PB-py3.9/lib/python3.9/site-packages/modin/core/execution/dispatching/factories/factories.py:217\u001B[0m, in \u001B[0;36mBaseFactory._read_csv\u001B[0;34m(cls, **kwargs)\u001B[0m\n\u001B[1;32m    209\u001B[0m \u001B[38;5;129m@classmethod\u001B[39m\n\u001B[1;32m    210\u001B[0m \u001B[38;5;129m@doc\u001B[39m(\n\u001B[1;32m    211\u001B[0m     _doc_io_method_template,\n\u001B[0;32m   (...)\u001B[0m\n\u001B[1;32m    215\u001B[0m )\n\u001B[1;32m    216\u001B[0m \u001B[38;5;28;01mdef\u001B[39;00m \u001B[38;5;21m_read_csv\u001B[39m(\u001B[38;5;28mcls\u001B[39m, \u001B[38;5;241m*\u001B[39m\u001B[38;5;241m*\u001B[39mkwargs):\n\u001B[0;32m--> 217\u001B[0m     \u001B[38;5;28;01mreturn\u001B[39;00m \u001B[38;5;28;43mcls\u001B[39;49m\u001B[38;5;241;43m.\u001B[39;49m\u001B[43mio_cls\u001B[49m\u001B[38;5;241;43m.\u001B[39;49m\u001B[43mread_csv\u001B[49m\u001B[43m(\u001B[49m\u001B[38;5;241;43m*\u001B[39;49m\u001B[38;5;241;43m*\u001B[39;49m\u001B[43mkwargs\u001B[49m\u001B[43m)\u001B[49m\n",
      "File \u001B[0;32m~/Library/Caches/pypoetry/virtualenvs/shopee-RDqjA3PB-py3.9/lib/python3.9/site-packages/modin/logging/logger_decorator.py:128\u001B[0m, in \u001B[0;36menable_logging.<locals>.decorator.<locals>.run_and_log\u001B[0;34m(*args, **kwargs)\u001B[0m\n\u001B[1;32m    113\u001B[0m \u001B[38;5;124;03m\"\"\"\u001B[39;00m\n\u001B[1;32m    114\u001B[0m \u001B[38;5;124;03mCompute function with logging if Modin logging is enabled.\u001B[39;00m\n\u001B[1;32m    115\u001B[0m \n\u001B[0;32m   (...)\u001B[0m\n\u001B[1;32m    125\u001B[0m \u001B[38;5;124;03mAny\u001B[39;00m\n\u001B[1;32m    126\u001B[0m \u001B[38;5;124;03m\"\"\"\u001B[39;00m\n\u001B[1;32m    127\u001B[0m \u001B[38;5;28;01mif\u001B[39;00m LogMode\u001B[38;5;241m.\u001B[39mget() \u001B[38;5;241m==\u001B[39m \u001B[38;5;124m\"\u001B[39m\u001B[38;5;124mdisable\u001B[39m\u001B[38;5;124m\"\u001B[39m:\n\u001B[0;32m--> 128\u001B[0m     \u001B[38;5;28;01mreturn\u001B[39;00m \u001B[43mobj\u001B[49m\u001B[43m(\u001B[49m\u001B[38;5;241;43m*\u001B[39;49m\u001B[43margs\u001B[49m\u001B[43m,\u001B[49m\u001B[43m \u001B[49m\u001B[38;5;241;43m*\u001B[39;49m\u001B[38;5;241;43m*\u001B[39;49m\u001B[43mkwargs\u001B[49m\u001B[43m)\u001B[49m\n\u001B[1;32m    130\u001B[0m logger \u001B[38;5;241m=\u001B[39m get_logger()\n\u001B[1;32m    131\u001B[0m logger_level \u001B[38;5;241m=\u001B[39m \u001B[38;5;28mgetattr\u001B[39m(logger, log_level)\n",
      "File \u001B[0;32m~/Library/Caches/pypoetry/virtualenvs/shopee-RDqjA3PB-py3.9/lib/python3.9/site-packages/modin/core/io/file_dispatcher.py:154\u001B[0m, in \u001B[0;36mFileDispatcher.read\u001B[0;34m(cls, *args, **kwargs)\u001B[0m\n\u001B[1;32m    131\u001B[0m \u001B[38;5;129m@classmethod\u001B[39m\n\u001B[1;32m    132\u001B[0m \u001B[38;5;28;01mdef\u001B[39;00m \u001B[38;5;21mread\u001B[39m(\u001B[38;5;28mcls\u001B[39m, \u001B[38;5;241m*\u001B[39margs, \u001B[38;5;241m*\u001B[39m\u001B[38;5;241m*\u001B[39mkwargs):\n\u001B[1;32m    133\u001B[0m     \u001B[38;5;124;03m\"\"\"\u001B[39;00m\n\u001B[1;32m    134\u001B[0m \u001B[38;5;124;03m    Read data according passed `args` and `kwargs`.\u001B[39;00m\n\u001B[1;32m    135\u001B[0m \n\u001B[0;32m   (...)\u001B[0m\n\u001B[1;32m    152\u001B[0m \u001B[38;5;124;03m    postprocessing work on the resulting query_compiler object.\u001B[39;00m\n\u001B[1;32m    153\u001B[0m \u001B[38;5;124;03m    \"\"\"\u001B[39;00m\n\u001B[0;32m--> 154\u001B[0m     query_compiler \u001B[38;5;241m=\u001B[39m \u001B[38;5;28;43mcls\u001B[39;49m\u001B[38;5;241;43m.\u001B[39;49m\u001B[43m_read\u001B[49m\u001B[43m(\u001B[49m\u001B[38;5;241;43m*\u001B[39;49m\u001B[43margs\u001B[49m\u001B[43m,\u001B[49m\u001B[43m \u001B[49m\u001B[38;5;241;43m*\u001B[39;49m\u001B[38;5;241;43m*\u001B[39;49m\u001B[43mkwargs\u001B[49m\u001B[43m)\u001B[49m\n\u001B[1;32m    155\u001B[0m     \u001B[38;5;66;03m# TODO (devin-petersohn): Make this section more general for non-pandas kernel\u001B[39;00m\n\u001B[1;32m    156\u001B[0m     \u001B[38;5;66;03m# implementations.\u001B[39;00m\n\u001B[1;32m    157\u001B[0m     \u001B[38;5;28;01mif\u001B[39;00m StorageFormat\u001B[38;5;241m.\u001B[39mget() \u001B[38;5;241m==\u001B[39m \u001B[38;5;124m\"\u001B[39m\u001B[38;5;124mPandas\u001B[39m\u001B[38;5;124m\"\u001B[39m:\n",
      "File \u001B[0;32m~/Library/Caches/pypoetry/virtualenvs/shopee-RDqjA3PB-py3.9/lib/python3.9/site-packages/modin/logging/logger_decorator.py:128\u001B[0m, in \u001B[0;36menable_logging.<locals>.decorator.<locals>.run_and_log\u001B[0;34m(*args, **kwargs)\u001B[0m\n\u001B[1;32m    113\u001B[0m \u001B[38;5;124;03m\"\"\"\u001B[39;00m\n\u001B[1;32m    114\u001B[0m \u001B[38;5;124;03mCompute function with logging if Modin logging is enabled.\u001B[39;00m\n\u001B[1;32m    115\u001B[0m \n\u001B[0;32m   (...)\u001B[0m\n\u001B[1;32m    125\u001B[0m \u001B[38;5;124;03mAny\u001B[39;00m\n\u001B[1;32m    126\u001B[0m \u001B[38;5;124;03m\"\"\"\u001B[39;00m\n\u001B[1;32m    127\u001B[0m \u001B[38;5;28;01mif\u001B[39;00m LogMode\u001B[38;5;241m.\u001B[39mget() \u001B[38;5;241m==\u001B[39m \u001B[38;5;124m\"\u001B[39m\u001B[38;5;124mdisable\u001B[39m\u001B[38;5;124m\"\u001B[39m:\n\u001B[0;32m--> 128\u001B[0m     \u001B[38;5;28;01mreturn\u001B[39;00m \u001B[43mobj\u001B[49m\u001B[43m(\u001B[49m\u001B[38;5;241;43m*\u001B[39;49m\u001B[43margs\u001B[49m\u001B[43m,\u001B[49m\u001B[43m \u001B[49m\u001B[38;5;241;43m*\u001B[39;49m\u001B[38;5;241;43m*\u001B[39;49m\u001B[43mkwargs\u001B[49m\u001B[43m)\u001B[49m\n\u001B[1;32m    130\u001B[0m logger \u001B[38;5;241m=\u001B[39m get_logger()\n\u001B[1;32m    131\u001B[0m logger_level \u001B[38;5;241m=\u001B[39m \u001B[38;5;28mgetattr\u001B[39m(logger, log_level)\n",
      "File \u001B[0;32m~/Library/Caches/pypoetry/virtualenvs/shopee-RDqjA3PB-py3.9/lib/python3.9/site-packages/modin/core/io/text/text_file_dispatcher.py:1065\u001B[0m, in \u001B[0;36mTextFileDispatcher._read\u001B[0;34m(cls, filepath_or_buffer, **kwargs)\u001B[0m\n\u001B[1;32m   1048\u001B[0m     splits \u001B[38;5;241m=\u001B[39m \u001B[38;5;28mcls\u001B[39m\u001B[38;5;241m.\u001B[39mpartitioned_file(\n\u001B[1;32m   1049\u001B[0m         f,\n\u001B[1;32m   1050\u001B[0m         num_partitions\u001B[38;5;241m=\u001B[39mNPartitions\u001B[38;5;241m.\u001B[39mget(),\n\u001B[0;32m   (...)\u001B[0m\n\u001B[1;32m   1058\u001B[0m         pre_reading\u001B[38;5;241m=\u001B[39mpre_reading,\n\u001B[1;32m   1059\u001B[0m     )\n\u001B[1;32m   1061\u001B[0m partition_ids, index_ids, dtypes_ids \u001B[38;5;241m=\u001B[39m \u001B[38;5;28mcls\u001B[39m\u001B[38;5;241m.\u001B[39m_launch_tasks(\n\u001B[1;32m   1062\u001B[0m     splits, callback\u001B[38;5;241m=\u001B[39m\u001B[38;5;28mcls\u001B[39m\u001B[38;5;241m.\u001B[39mread_callback, \u001B[38;5;241m*\u001B[39m\u001B[38;5;241m*\u001B[39mpartition_kwargs\n\u001B[1;32m   1063\u001B[0m )\n\u001B[0;32m-> 1065\u001B[0m new_query_compiler \u001B[38;5;241m=\u001B[39m \u001B[38;5;28;43mcls\u001B[39;49m\u001B[38;5;241;43m.\u001B[39;49m\u001B[43m_get_new_qc\u001B[49m\u001B[43m(\u001B[49m\n\u001B[1;32m   1066\u001B[0m \u001B[43m    \u001B[49m\u001B[43mpartition_ids\u001B[49m\u001B[38;5;241;43m=\u001B[39;49m\u001B[43mpartition_ids\u001B[49m\u001B[43m,\u001B[49m\n\u001B[1;32m   1067\u001B[0m \u001B[43m    \u001B[49m\u001B[43mindex_ids\u001B[49m\u001B[38;5;241;43m=\u001B[39;49m\u001B[43mindex_ids\u001B[49m\u001B[43m,\u001B[49m\n\u001B[1;32m   1068\u001B[0m \u001B[43m    \u001B[49m\u001B[43mdtypes_ids\u001B[49m\u001B[38;5;241;43m=\u001B[39;49m\u001B[43mdtypes_ids\u001B[49m\u001B[43m,\u001B[49m\n\u001B[1;32m   1069\u001B[0m \u001B[43m    \u001B[49m\u001B[43mindex_col\u001B[49m\u001B[38;5;241;43m=\u001B[39;49m\u001B[43mindex_col\u001B[49m\u001B[43m,\u001B[49m\n\u001B[1;32m   1070\u001B[0m \u001B[43m    \u001B[49m\u001B[43mindex_name\u001B[49m\u001B[38;5;241;43m=\u001B[39;49m\u001B[43mpd_df_metadata\u001B[49m\u001B[38;5;241;43m.\u001B[39;49m\u001B[43mindex\u001B[49m\u001B[38;5;241;43m.\u001B[39;49m\u001B[43mname\u001B[49m\u001B[43m,\u001B[49m\n\u001B[1;32m   1071\u001B[0m \u001B[43m    \u001B[49m\u001B[43mcolumn_widths\u001B[49m\u001B[38;5;241;43m=\u001B[39;49m\u001B[43mcolumn_widths\u001B[49m\u001B[43m,\u001B[49m\n\u001B[1;32m   1072\u001B[0m \u001B[43m    \u001B[49m\u001B[43mcolumn_names\u001B[49m\u001B[38;5;241;43m=\u001B[39;49m\u001B[43mcolumn_names\u001B[49m\u001B[43m,\u001B[49m\n\u001B[1;32m   1073\u001B[0m \u001B[43m    \u001B[49m\u001B[43mskiprows_md\u001B[49m\u001B[38;5;241;43m=\u001B[39;49m\u001B[43mskiprows_md\u001B[49m\u001B[43m \u001B[49m\u001B[38;5;28;43;01mif\u001B[39;49;00m\u001B[43m \u001B[49m\u001B[43mshould_handle_skiprows\u001B[49m\u001B[43m \u001B[49m\u001B[38;5;28;43;01melse\u001B[39;49;00m\u001B[43m \u001B[49m\u001B[38;5;28;43;01mNone\u001B[39;49;00m\u001B[43m,\u001B[49m\n\u001B[1;32m   1074\u001B[0m \u001B[43m    \u001B[49m\u001B[43mheader_size\u001B[49m\u001B[38;5;241;43m=\u001B[39;49m\u001B[43mheader_size\u001B[49m\u001B[43m,\u001B[49m\n\u001B[1;32m   1075\u001B[0m \u001B[43m    \u001B[49m\u001B[43mskipfooter\u001B[49m\u001B[38;5;241;43m=\u001B[39;49m\u001B[43mkwargs\u001B[49m\u001B[43m[\u001B[49m\u001B[38;5;124;43m\"\u001B[39;49m\u001B[38;5;124;43mskipfooter\u001B[39;49m\u001B[38;5;124;43m\"\u001B[39;49m\u001B[43m]\u001B[49m\u001B[43m,\u001B[49m\n\u001B[1;32m   1076\u001B[0m \u001B[43m    \u001B[49m\u001B[43mparse_dates\u001B[49m\u001B[38;5;241;43m=\u001B[39;49m\u001B[43mkwargs\u001B[49m\u001B[43m[\u001B[49m\u001B[38;5;124;43m\"\u001B[39;49m\u001B[38;5;124;43mparse_dates\u001B[39;49m\u001B[38;5;124;43m\"\u001B[39;49m\u001B[43m]\u001B[49m\u001B[43m,\u001B[49m\n\u001B[1;32m   1077\u001B[0m \u001B[43m    \u001B[49m\u001B[43mnrows\u001B[49m\u001B[38;5;241;43m=\u001B[39;49m\u001B[43mkwargs\u001B[49m\u001B[43m[\u001B[49m\u001B[38;5;124;43m\"\u001B[39;49m\u001B[38;5;124;43mnrows\u001B[39;49m\u001B[38;5;124;43m\"\u001B[39;49m\u001B[43m]\u001B[49m\u001B[43m \u001B[49m\u001B[38;5;28;43;01mif\u001B[39;49;00m\u001B[43m \u001B[49m\u001B[43mshould_handle_skiprows\u001B[49m\u001B[43m \u001B[49m\u001B[38;5;28;43;01melse\u001B[39;49;00m\u001B[43m \u001B[49m\u001B[38;5;28;43;01mNone\u001B[39;49;00m\u001B[43m,\u001B[49m\n\u001B[1;32m   1078\u001B[0m \u001B[43m\u001B[49m\u001B[43m)\u001B[49m\n\u001B[1;32m   1079\u001B[0m \u001B[38;5;28;01mreturn\u001B[39;00m new_query_compiler\n",
      "File \u001B[0;32m~/Library/Caches/pypoetry/virtualenvs/shopee-RDqjA3PB-py3.9/lib/python3.9/site-packages/modin/logging/logger_decorator.py:128\u001B[0m, in \u001B[0;36menable_logging.<locals>.decorator.<locals>.run_and_log\u001B[0;34m(*args, **kwargs)\u001B[0m\n\u001B[1;32m    113\u001B[0m \u001B[38;5;124;03m\"\"\"\u001B[39;00m\n\u001B[1;32m    114\u001B[0m \u001B[38;5;124;03mCompute function with logging if Modin logging is enabled.\u001B[39;00m\n\u001B[1;32m    115\u001B[0m \n\u001B[0;32m   (...)\u001B[0m\n\u001B[1;32m    125\u001B[0m \u001B[38;5;124;03mAny\u001B[39;00m\n\u001B[1;32m    126\u001B[0m \u001B[38;5;124;03m\"\"\"\u001B[39;00m\n\u001B[1;32m    127\u001B[0m \u001B[38;5;28;01mif\u001B[39;00m LogMode\u001B[38;5;241m.\u001B[39mget() \u001B[38;5;241m==\u001B[39m \u001B[38;5;124m\"\u001B[39m\u001B[38;5;124mdisable\u001B[39m\u001B[38;5;124m\"\u001B[39m:\n\u001B[0;32m--> 128\u001B[0m     \u001B[38;5;28;01mreturn\u001B[39;00m \u001B[43mobj\u001B[49m\u001B[43m(\u001B[49m\u001B[38;5;241;43m*\u001B[39;49m\u001B[43margs\u001B[49m\u001B[43m,\u001B[49m\u001B[43m \u001B[49m\u001B[38;5;241;43m*\u001B[39;49m\u001B[38;5;241;43m*\u001B[39;49m\u001B[43mkwargs\u001B[49m\u001B[43m)\u001B[49m\n\u001B[1;32m    130\u001B[0m logger \u001B[38;5;241m=\u001B[39m get_logger()\n\u001B[1;32m    131\u001B[0m logger_level \u001B[38;5;241m=\u001B[39m \u001B[38;5;28mgetattr\u001B[39m(logger, log_level)\n",
      "File \u001B[0;32m~/Library/Caches/pypoetry/virtualenvs/shopee-RDqjA3PB-py3.9/lib/python3.9/site-packages/modin/core/io/text/text_file_dispatcher.py:892\u001B[0m, in \u001B[0;36mTextFileDispatcher._get_new_qc\u001B[0;34m(cls, partition_ids, index_ids, dtypes_ids, index_col, index_name, column_widths, column_names, skiprows_md, header_size, **kwargs)\u001B[0m\n\u001B[1;32m    887\u001B[0m new_index, row_lengths \u001B[38;5;241m=\u001B[39m \u001B[38;5;28mcls\u001B[39m\u001B[38;5;241m.\u001B[39m_define_index(index_ids, index_name)\n\u001B[1;32m    888\u001B[0m \u001B[38;5;66;03m# Compute dtypes by collecting and combining all of the partition dtypes. The\u001B[39;00m\n\u001B[1;32m    889\u001B[0m \u001B[38;5;66;03m# reported dtypes from differing rows can be different based on the inference in\u001B[39;00m\n\u001B[1;32m    890\u001B[0m \u001B[38;5;66;03m# the limited data seen by each worker. We use pandas to compute the exact dtype\u001B[39;00m\n\u001B[1;32m    891\u001B[0m \u001B[38;5;66;03m# over the whole column for each column. The index is set below.\u001B[39;00m\n\u001B[0;32m--> 892\u001B[0m dtypes \u001B[38;5;241m=\u001B[39m \u001B[38;5;28;43mcls\u001B[39;49m\u001B[38;5;241;43m.\u001B[39;49m\u001B[43mget_dtypes\u001B[49m\u001B[43m(\u001B[49m\u001B[43mdtypes_ids\u001B[49m\u001B[43m)\u001B[49m \u001B[38;5;28;01mif\u001B[39;00m \u001B[38;5;28mlen\u001B[39m(dtypes_ids) \u001B[38;5;241m>\u001B[39m \u001B[38;5;241m0\u001B[39m \u001B[38;5;28;01melse\u001B[39;00m \u001B[38;5;28;01mNone\u001B[39;00m\n\u001B[1;32m    893\u001B[0m \u001B[38;5;66;03m# Compose modin partitions from `partition_ids`\u001B[39;00m\n\u001B[1;32m    894\u001B[0m partition_ids \u001B[38;5;241m=\u001B[39m \u001B[38;5;28mcls\u001B[39m\u001B[38;5;241m.\u001B[39mbuild_partition(partition_ids, row_lengths, column_widths)\n",
      "File \u001B[0;32m~/Library/Caches/pypoetry/virtualenvs/shopee-RDqjA3PB-py3.9/lib/python3.9/site-packages/modin/logging/logger_decorator.py:128\u001B[0m, in \u001B[0;36menable_logging.<locals>.decorator.<locals>.run_and_log\u001B[0;34m(*args, **kwargs)\u001B[0m\n\u001B[1;32m    113\u001B[0m \u001B[38;5;124;03m\"\"\"\u001B[39;00m\n\u001B[1;32m    114\u001B[0m \u001B[38;5;124;03mCompute function with logging if Modin logging is enabled.\u001B[39;00m\n\u001B[1;32m    115\u001B[0m \n\u001B[0;32m   (...)\u001B[0m\n\u001B[1;32m    125\u001B[0m \u001B[38;5;124;03mAny\u001B[39;00m\n\u001B[1;32m    126\u001B[0m \u001B[38;5;124;03m\"\"\"\u001B[39;00m\n\u001B[1;32m    127\u001B[0m \u001B[38;5;28;01mif\u001B[39;00m LogMode\u001B[38;5;241m.\u001B[39mget() \u001B[38;5;241m==\u001B[39m \u001B[38;5;124m\"\u001B[39m\u001B[38;5;124mdisable\u001B[39m\u001B[38;5;124m\"\u001B[39m:\n\u001B[0;32m--> 128\u001B[0m     \u001B[38;5;28;01mreturn\u001B[39;00m \u001B[43mobj\u001B[49m\u001B[43m(\u001B[49m\u001B[38;5;241;43m*\u001B[39;49m\u001B[43margs\u001B[49m\u001B[43m,\u001B[49m\u001B[43m \u001B[49m\u001B[38;5;241;43m*\u001B[39;49m\u001B[38;5;241;43m*\u001B[39;49m\u001B[43mkwargs\u001B[49m\u001B[43m)\u001B[49m\n\u001B[1;32m    130\u001B[0m logger \u001B[38;5;241m=\u001B[39m get_logger()\n\u001B[1;32m    131\u001B[0m logger_level \u001B[38;5;241m=\u001B[39m \u001B[38;5;28mgetattr\u001B[39m(logger, log_level)\n",
      "File \u001B[0;32m~/Library/Caches/pypoetry/virtualenvs/shopee-RDqjA3PB-py3.9/lib/python3.9/site-packages/modin/core/storage_formats/pandas/parsers.py:249\u001B[0m, in \u001B[0;36mPandasParser.get_dtypes\u001B[0;34m(cls, dtypes_ids)\u001B[0m\n\u001B[1;32m    240\u001B[0m     ErrorMessage\u001B[38;5;241m.\u001B[39mmissmatch_with_pandas(\n\u001B[1;32m    241\u001B[0m         operation\u001B[38;5;241m=\u001B[39m\u001B[38;5;124m\"\u001B[39m\u001B[38;5;124mread_*\u001B[39m\u001B[38;5;124m\"\u001B[39m,\n\u001B[1;32m    242\u001B[0m         message\u001B[38;5;241m=\u001B[39m\u001B[38;5;124m\"\u001B[39m\u001B[38;5;124mData types of partitions are different! \u001B[39m\u001B[38;5;124m\"\u001B[39m\n\u001B[1;32m    243\u001B[0m         \u001B[38;5;241m+\u001B[39m \u001B[38;5;124m\"\u001B[39m\u001B[38;5;124mPlease refer to the troubleshooting section of the Modin documentation \u001B[39m\u001B[38;5;124m\"\u001B[39m\n\u001B[1;32m    244\u001B[0m         \u001B[38;5;241m+\u001B[39m \u001B[38;5;124m\"\u001B[39m\u001B[38;5;124mto fix this issue\u001B[39m\u001B[38;5;124m\"\u001B[39m,\n\u001B[1;32m    245\u001B[0m     )\n\u001B[1;32m    247\u001B[0m     \u001B[38;5;66;03m# concat all elements of `partitions_dtypes` and find common dtype\u001B[39;00m\n\u001B[1;32m    248\u001B[0m     \u001B[38;5;66;03m# for each of the column among all partitions\u001B[39;00m\n\u001B[0;32m--> 249\u001B[0m     frame_dtypes \u001B[38;5;241m=\u001B[39m \u001B[43mcombined_part_dtypes\u001B[49m\u001B[38;5;241;43m.\u001B[39;49m\u001B[43mapply\u001B[49m\u001B[43m(\u001B[49m\n\u001B[1;32m    250\u001B[0m \u001B[43m        \u001B[49m\u001B[38;5;28;43;01mlambda\u001B[39;49;00m\u001B[43m \u001B[49m\u001B[43mrow\u001B[49m\u001B[43m:\u001B[49m\u001B[43m \u001B[49m\u001B[43mfind_common_type_cat\u001B[49m\u001B[43m(\u001B[49m\u001B[43mrow\u001B[49m\u001B[38;5;241;43m.\u001B[39;49m\u001B[43mvalues\u001B[49m\u001B[43m)\u001B[49m\u001B[43m,\u001B[49m\n\u001B[1;32m    251\u001B[0m \u001B[43m        \u001B[49m\u001B[43maxis\u001B[49m\u001B[38;5;241;43m=\u001B[39;49m\u001B[38;5;241;43m1\u001B[39;49m\u001B[43m,\u001B[49m\n\u001B[1;32m    252\u001B[0m \u001B[43m    \u001B[49m\u001B[43m)\u001B[49m\u001B[38;5;241m.\u001B[39msqueeze(axis\u001B[38;5;241m=\u001B[39m\u001B[38;5;241m0\u001B[39m)\n\u001B[1;32m    254\u001B[0m \u001B[38;5;28;01mreturn\u001B[39;00m frame_dtypes\n",
      "File \u001B[0;32m~/Library/Caches/pypoetry/virtualenvs/shopee-RDqjA3PB-py3.9/lib/python3.9/site-packages/pandas/core/frame.py:9558\u001B[0m, in \u001B[0;36mDataFrame.apply\u001B[0;34m(self, func, axis, raw, result_type, args, **kwargs)\u001B[0m\n\u001B[1;32m   9547\u001B[0m \u001B[38;5;28;01mfrom\u001B[39;00m \u001B[38;5;21;01mpandas\u001B[39;00m\u001B[38;5;21;01m.\u001B[39;00m\u001B[38;5;21;01mcore\u001B[39;00m\u001B[38;5;21;01m.\u001B[39;00m\u001B[38;5;21;01mapply\u001B[39;00m \u001B[38;5;28;01mimport\u001B[39;00m frame_apply\n\u001B[1;32m   9549\u001B[0m op \u001B[38;5;241m=\u001B[39m frame_apply(\n\u001B[1;32m   9550\u001B[0m     \u001B[38;5;28mself\u001B[39m,\n\u001B[1;32m   9551\u001B[0m     func\u001B[38;5;241m=\u001B[39mfunc,\n\u001B[0;32m   (...)\u001B[0m\n\u001B[1;32m   9556\u001B[0m     kwargs\u001B[38;5;241m=\u001B[39mkwargs,\n\u001B[1;32m   9557\u001B[0m )\n\u001B[0;32m-> 9558\u001B[0m \u001B[38;5;28;01mreturn\u001B[39;00m \u001B[43mop\u001B[49m\u001B[38;5;241;43m.\u001B[39;49m\u001B[43mapply\u001B[49m\u001B[43m(\u001B[49m\u001B[43m)\u001B[49m\u001B[38;5;241m.\u001B[39m__finalize__(\u001B[38;5;28mself\u001B[39m, method\u001B[38;5;241m=\u001B[39m\u001B[38;5;124m\"\u001B[39m\u001B[38;5;124mapply\u001B[39m\u001B[38;5;124m\"\u001B[39m)\n",
      "File \u001B[0;32m~/Library/Caches/pypoetry/virtualenvs/shopee-RDqjA3PB-py3.9/lib/python3.9/site-packages/pandas/core/apply.py:741\u001B[0m, in \u001B[0;36mFrameApply.apply\u001B[0;34m(self)\u001B[0m\n\u001B[1;32m    738\u001B[0m \u001B[38;5;28;01melif\u001B[39;00m \u001B[38;5;28mself\u001B[39m\u001B[38;5;241m.\u001B[39mraw:\n\u001B[1;32m    739\u001B[0m     \u001B[38;5;28;01mreturn\u001B[39;00m \u001B[38;5;28mself\u001B[39m\u001B[38;5;241m.\u001B[39mapply_raw()\n\u001B[0;32m--> 741\u001B[0m \u001B[38;5;28;01mreturn\u001B[39;00m \u001B[38;5;28;43mself\u001B[39;49m\u001B[38;5;241;43m.\u001B[39;49m\u001B[43mapply_standard\u001B[49m\u001B[43m(\u001B[49m\u001B[43m)\u001B[49m\n",
      "File \u001B[0;32m~/Library/Caches/pypoetry/virtualenvs/shopee-RDqjA3PB-py3.9/lib/python3.9/site-packages/pandas/core/apply.py:868\u001B[0m, in \u001B[0;36mFrameApply.apply_standard\u001B[0;34m(self)\u001B[0m\n\u001B[1;32m    867\u001B[0m \u001B[38;5;28;01mdef\u001B[39;00m \u001B[38;5;21mapply_standard\u001B[39m(\u001B[38;5;28mself\u001B[39m):\n\u001B[0;32m--> 868\u001B[0m     results, res_index \u001B[38;5;241m=\u001B[39m \u001B[38;5;28;43mself\u001B[39;49m\u001B[38;5;241;43m.\u001B[39;49m\u001B[43mapply_series_generator\u001B[49m\u001B[43m(\u001B[49m\u001B[43m)\u001B[49m\n\u001B[1;32m    870\u001B[0m     \u001B[38;5;66;03m# wrap results\u001B[39;00m\n\u001B[1;32m    871\u001B[0m     \u001B[38;5;28;01mreturn\u001B[39;00m \u001B[38;5;28mself\u001B[39m\u001B[38;5;241m.\u001B[39mwrap_results(results, res_index)\n",
      "File \u001B[0;32m~/Library/Caches/pypoetry/virtualenvs/shopee-RDqjA3PB-py3.9/lib/python3.9/site-packages/pandas/core/apply.py:884\u001B[0m, in \u001B[0;36mFrameApply.apply_series_generator\u001B[0;34m(self)\u001B[0m\n\u001B[1;32m    881\u001B[0m \u001B[38;5;28;01mwith\u001B[39;00m option_context(\u001B[38;5;124m\"\u001B[39m\u001B[38;5;124mmode.chained_assignment\u001B[39m\u001B[38;5;124m\"\u001B[39m, \u001B[38;5;28;01mNone\u001B[39;00m):\n\u001B[1;32m    882\u001B[0m     \u001B[38;5;28;01mfor\u001B[39;00m i, v \u001B[38;5;129;01min\u001B[39;00m \u001B[38;5;28menumerate\u001B[39m(series_gen):\n\u001B[1;32m    883\u001B[0m         \u001B[38;5;66;03m# ignore SettingWithCopy here in case the user mutates\u001B[39;00m\n\u001B[0;32m--> 884\u001B[0m         results[i] \u001B[38;5;241m=\u001B[39m \u001B[38;5;28;43mself\u001B[39;49m\u001B[38;5;241;43m.\u001B[39;49m\u001B[43mf\u001B[49m\u001B[43m(\u001B[49m\u001B[43mv\u001B[49m\u001B[43m)\u001B[49m\n\u001B[1;32m    885\u001B[0m         \u001B[38;5;28;01mif\u001B[39;00m \u001B[38;5;28misinstance\u001B[39m(results[i], ABCSeries):\n\u001B[1;32m    886\u001B[0m             \u001B[38;5;66;03m# If we have a view on v, we need to make a copy because\u001B[39;00m\n\u001B[1;32m    887\u001B[0m             \u001B[38;5;66;03m#  series_generator will swap out the underlying data\u001B[39;00m\n\u001B[1;32m    888\u001B[0m             results[i] \u001B[38;5;241m=\u001B[39m results[i]\u001B[38;5;241m.\u001B[39mcopy(deep\u001B[38;5;241m=\u001B[39m\u001B[38;5;28;01mFalse\u001B[39;00m)\n",
      "File \u001B[0;32m~/Library/Caches/pypoetry/virtualenvs/shopee-RDqjA3PB-py3.9/lib/python3.9/site-packages/modin/core/storage_formats/pandas/parsers.py:250\u001B[0m, in \u001B[0;36mPandasParser.get_dtypes.<locals>.<lambda>\u001B[0;34m(row)\u001B[0m\n\u001B[1;32m    240\u001B[0m     ErrorMessage\u001B[38;5;241m.\u001B[39mmissmatch_with_pandas(\n\u001B[1;32m    241\u001B[0m         operation\u001B[38;5;241m=\u001B[39m\u001B[38;5;124m\"\u001B[39m\u001B[38;5;124mread_*\u001B[39m\u001B[38;5;124m\"\u001B[39m,\n\u001B[1;32m    242\u001B[0m         message\u001B[38;5;241m=\u001B[39m\u001B[38;5;124m\"\u001B[39m\u001B[38;5;124mData types of partitions are different! \u001B[39m\u001B[38;5;124m\"\u001B[39m\n\u001B[1;32m    243\u001B[0m         \u001B[38;5;241m+\u001B[39m \u001B[38;5;124m\"\u001B[39m\u001B[38;5;124mPlease refer to the troubleshooting section of the Modin documentation \u001B[39m\u001B[38;5;124m\"\u001B[39m\n\u001B[1;32m    244\u001B[0m         \u001B[38;5;241m+\u001B[39m \u001B[38;5;124m\"\u001B[39m\u001B[38;5;124mto fix this issue\u001B[39m\u001B[38;5;124m\"\u001B[39m,\n\u001B[1;32m    245\u001B[0m     )\n\u001B[1;32m    247\u001B[0m     \u001B[38;5;66;03m# concat all elements of `partitions_dtypes` and find common dtype\u001B[39;00m\n\u001B[1;32m    248\u001B[0m     \u001B[38;5;66;03m# for each of the column among all partitions\u001B[39;00m\n\u001B[1;32m    249\u001B[0m     frame_dtypes \u001B[38;5;241m=\u001B[39m combined_part_dtypes\u001B[38;5;241m.\u001B[39mapply(\n\u001B[0;32m--> 250\u001B[0m         \u001B[38;5;28;01mlambda\u001B[39;00m row: \u001B[43mfind_common_type_cat\u001B[49m\u001B[43m(\u001B[49m\u001B[43mrow\u001B[49m\u001B[38;5;241;43m.\u001B[39;49m\u001B[43mvalues\u001B[49m\u001B[43m)\u001B[49m,\n\u001B[1;32m    251\u001B[0m         axis\u001B[38;5;241m=\u001B[39m\u001B[38;5;241m1\u001B[39m,\n\u001B[1;32m    252\u001B[0m     )\u001B[38;5;241m.\u001B[39msqueeze(axis\u001B[38;5;241m=\u001B[39m\u001B[38;5;241m0\u001B[39m)\n\u001B[1;32m    254\u001B[0m \u001B[38;5;28;01mreturn\u001B[39;00m frame_dtypes\n",
      "File \u001B[0;32m~/Library/Caches/pypoetry/virtualenvs/shopee-RDqjA3PB-py3.9/lib/python3.9/site-packages/modin/core/storage_formats/pandas/parsers.py:142\u001B[0m, in \u001B[0;36mfind_common_type_cat\u001B[0;34m(types)\u001B[0m\n\u001B[1;32m    137\u001B[0m     \u001B[38;5;28;01mreturn\u001B[39;00m union_categoricals(\n\u001B[1;32m    138\u001B[0m         [pandas\u001B[38;5;241m.\u001B[39mCategorical([], dtype\u001B[38;5;241m=\u001B[39mt) \u001B[38;5;28;01mfor\u001B[39;00m t \u001B[38;5;129;01min\u001B[39;00m types],\n\u001B[1;32m    139\u001B[0m         sort_categories\u001B[38;5;241m=\u001B[39m\u001B[38;5;28mall\u001B[39m(t\u001B[38;5;241m.\u001B[39mordered \u001B[38;5;28;01mfor\u001B[39;00m t \u001B[38;5;129;01min\u001B[39;00m types),\n\u001B[1;32m    140\u001B[0m     )\u001B[38;5;241m.\u001B[39mdtype\n\u001B[1;32m    141\u001B[0m \u001B[38;5;28;01melse\u001B[39;00m:\n\u001B[0;32m--> 142\u001B[0m     \u001B[38;5;28;01mreturn\u001B[39;00m \u001B[43mfind_common_type\u001B[49m\u001B[43m(\u001B[49m\u001B[38;5;28;43mlist\u001B[39;49m\u001B[43m(\u001B[49m\u001B[43mtypes\u001B[49m\u001B[43m)\u001B[49m\u001B[43m)\u001B[49m\n",
      "File \u001B[0;32m~/Library/Caches/pypoetry/virtualenvs/shopee-RDqjA3PB-py3.9/lib/python3.9/site-packages/pandas/core/dtypes/cast.py:1642\u001B[0m, in \u001B[0;36mfind_common_type\u001B[0;34m(types)\u001B[0m\n\u001B[1;32m   1639\u001B[0m         \u001B[38;5;28;01mif\u001B[39;00m is_integer_dtype(t) \u001B[38;5;129;01mor\u001B[39;00m is_float_dtype(t) \u001B[38;5;129;01mor\u001B[39;00m is_complex_dtype(t):\n\u001B[1;32m   1640\u001B[0m             \u001B[38;5;28;01mreturn\u001B[39;00m np\u001B[38;5;241m.\u001B[39mdtype(\u001B[38;5;124m\"\u001B[39m\u001B[38;5;124mobject\u001B[39m\u001B[38;5;124m\"\u001B[39m)\n\u001B[0;32m-> 1642\u001B[0m \u001B[38;5;28;01mreturn\u001B[39;00m \u001B[43mnp\u001B[49m\u001B[38;5;241;43m.\u001B[39;49m\u001B[43mfind_common_type\u001B[49m\u001B[43m(\u001B[49m\u001B[43mtypes\u001B[49m\u001B[43m,\u001B[49m\u001B[43m \u001B[49m\u001B[43m[\u001B[49m\u001B[43m]\u001B[49m\u001B[43m)\u001B[49m\n",
      "File \u001B[0;32m~/Library/Caches/pypoetry/virtualenvs/shopee-RDqjA3PB-py3.9/lib/python3.9/site-packages/numpy/core/numerictypes.py:649\u001B[0m, in \u001B[0;36mfind_common_type\u001B[0;34m(array_types, scalar_types)\u001B[0m\n\u001B[1;32m    597\u001B[0m \u001B[38;5;129m@set_module\u001B[39m(\u001B[38;5;124m'\u001B[39m\u001B[38;5;124mnumpy\u001B[39m\u001B[38;5;124m'\u001B[39m)\n\u001B[1;32m    598\u001B[0m \u001B[38;5;28;01mdef\u001B[39;00m \u001B[38;5;21mfind_common_type\u001B[39m(array_types, scalar_types):\n\u001B[1;32m    599\u001B[0m     \u001B[38;5;124;03m\"\"\"\u001B[39;00m\n\u001B[1;32m    600\u001B[0m \u001B[38;5;124;03m    Determine common type following standard coercion rules.\u001B[39;00m\n\u001B[1;32m    601\u001B[0m \n\u001B[0;32m   (...)\u001B[0m\n\u001B[1;32m    647\u001B[0m \n\u001B[1;32m    648\u001B[0m \u001B[38;5;124;03m    \"\"\"\u001B[39;00m\n\u001B[0;32m--> 649\u001B[0m     array_types \u001B[38;5;241m=\u001B[39m [dtype(x) \u001B[38;5;28;01mfor\u001B[39;00m x \u001B[38;5;129;01min\u001B[39;00m array_types]\n\u001B[1;32m    650\u001B[0m     scalar_types \u001B[38;5;241m=\u001B[39m [dtype(x) \u001B[38;5;28;01mfor\u001B[39;00m x \u001B[38;5;129;01min\u001B[39;00m scalar_types]\n\u001B[1;32m    652\u001B[0m     maxa \u001B[38;5;241m=\u001B[39m _can_coerce_all(array_types)\n",
      "File \u001B[0;32m~/Library/Caches/pypoetry/virtualenvs/shopee-RDqjA3PB-py3.9/lib/python3.9/site-packages/numpy/core/numerictypes.py:649\u001B[0m, in \u001B[0;36m<listcomp>\u001B[0;34m(.0)\u001B[0m\n\u001B[1;32m    597\u001B[0m \u001B[38;5;129m@set_module\u001B[39m(\u001B[38;5;124m'\u001B[39m\u001B[38;5;124mnumpy\u001B[39m\u001B[38;5;124m'\u001B[39m)\n\u001B[1;32m    598\u001B[0m \u001B[38;5;28;01mdef\u001B[39;00m \u001B[38;5;21mfind_common_type\u001B[39m(array_types, scalar_types):\n\u001B[1;32m    599\u001B[0m     \u001B[38;5;124;03m\"\"\"\u001B[39;00m\n\u001B[1;32m    600\u001B[0m \u001B[38;5;124;03m    Determine common type following standard coercion rules.\u001B[39;00m\n\u001B[1;32m    601\u001B[0m \n\u001B[0;32m   (...)\u001B[0m\n\u001B[1;32m    647\u001B[0m \n\u001B[1;32m    648\u001B[0m \u001B[38;5;124;03m    \"\"\"\u001B[39;00m\n\u001B[0;32m--> 649\u001B[0m     array_types \u001B[38;5;241m=\u001B[39m [\u001B[43mdtype\u001B[49m\u001B[43m(\u001B[49m\u001B[43mx\u001B[49m\u001B[43m)\u001B[49m \u001B[38;5;28;01mfor\u001B[39;00m x \u001B[38;5;129;01min\u001B[39;00m array_types]\n\u001B[1;32m    650\u001B[0m     scalar_types \u001B[38;5;241m=\u001B[39m [dtype(x) \u001B[38;5;28;01mfor\u001B[39;00m x \u001B[38;5;129;01min\u001B[39;00m scalar_types]\n\u001B[1;32m    652\u001B[0m     maxa \u001B[38;5;241m=\u001B[39m _can_coerce_all(array_types)\n",
      "\u001B[0;31mTypeError\u001B[0m: Cannot interpret 'nan' as a data type"
     ]
    }
   ],
   "source": [
    "%%time\n",
    "dtype = {'orderid'            : 'int64',\n",
    "         'pick'               : 'int64',\n",
    "         '1st_deliver_attempt': 'int64',\n",
    "         '2nd_deliver_attempt': 'float64',\n",
    "         'buyeraddress'       : 'object',\n",
    "         'selleraddress'      : 'object'}\n",
    "\n",
    "df = pd.read_csv('/Users/sonle/Documents/Shopee/delivery_orders_march.csv', dtype=dtype)"
   ]
  },
  {
   "cell_type": "code",
   "execution_count": 3,
   "metadata": {},
   "outputs": [
    {
     "name": "stdout",
     "output_type": "stream",
     "text": [
      "{'metro manila': 0, 'luzon': 1, 'visayas': 2, 'mindanao': 3}\n",
      "{'anila': 0, 'luzon': 1, 'sayas': 2, 'danao': 3}\n"
     ]
    }
   ],
   "source": [
    "WORKDAYS = '1111110'\n",
    "HOLIDAYS = ['2020-03-08','2020-03-25', '2020-03-30', '2020-03-31']\n",
    "\n",
    "GMT8_OFFSET = 3600 * 8\n",
    "DURATION_1DAY = 3600 * 24\n",
    "\n",
    "sla_matrix_1st_attempt = [\n",
    "\t[3, 5, 7, 7],\n",
    "\t[5, 5, 7, 7],\n",
    "\t[7, 7, 7, 7],\n",
    "\t[7, 7, 7, 7]\n",
    "]\n",
    "\n",
    "sla_matrix_2nd_attempt =[\n",
    "\t[3, 3, 3, 3],\n",
    "\t[3, 3, 3, 3],\n",
    "\t[3, 3, 3, 3],\n",
    "\t[3, 3, 3, 3]\n",
    "]\n",
    "locations = [\"Metro Manila\", \"Luzon\", \"Visayas\", \"Mindanao\"]\n",
    "locations = [loc.lower() for loc in locations]\n",
    "location_to_index = {loc: i for i, loc in enumerate(locations)}\n",
    "print(location_to_index)\n",
    "\n",
    "min_length = min(map(len, locations))\n",
    "trunc_location_to_index = {loc[-min_length:]: i for i, loc in enumerate(locations)}\n",
    "print(trunc_location_to_index)"
   ]
  },
  {
   "cell_type": "code",
   "execution_count": 4,
   "metadata": {},
   "outputs": [],
   "source": [
    "map_to_dict = dict(enumerate(np.array(sla_matrix_1st_attempt).flatten()))"
   ]
  },
  {
   "cell_type": "code",
   "execution_count": 23,
   "outputs": [
    {
     "ename": "IndentationError",
     "evalue": "unindent does not match any outer indentation level (<tokenize>, line 46)",
     "output_type": "error",
     "traceback": [
      "\u001B[0;36m  File \u001B[0;32m<tokenize>:46\u001B[0;36m\u001B[0m\n\u001B[0;31m    return (\u001B[0m\n\u001B[0m    ^\u001B[0m\n\u001B[0;31mIndentationError\u001B[0m\u001B[0;31m:\u001B[0m unindent does not match any outer indentation level\n"
     ]
    }
   ],
   "source": [
    "def tweak_result(df: pd.DataFrame) -> pd.DataFrame:\n",
    "        def convert_address(df):\n",
    "            \"\"\"\n",
    "            Function to convert address to given index\n",
    "            :param df: original df\n",
    "            :return: Updated buyeraddress and selleraddress with exact index of cites\n",
    "            \"\"\"\n",
    "            # df_['buyeraddress'] = df_['buyeraddress'].apply(lambda x: x[-min_length:].lower()).map(trunc_location_to_index)\n",
    "            # df_['selleraddress'] = df_['selleraddress'].apply(lambda x: x[-min_length:].lower()).map(trunc_location_to_index)\n",
    "            return (df.assign(\n",
    "                    buyeraddress=df.buyeraddress.apply(lambda x: x [-min_length:].lower()).map(trunc_location_to_index),\n",
    "                    selleraddress=df.selleraddress.apply(lambda x: x [-min_length:].lower()).map(trunc_location_to_index)))\n",
    "\n",
    "        def convert_time_todate(df):\n",
    "            \"\"\"\n",
    "            Function to fill NaN and convert time to second\n",
    "            :param df: original df\n",
    "            :return: df with ['pick', '1st_deliver_attempt', '2nd_deliver_attempt'] in second\n",
    "            \"\"\"\n",
    "            df ['2nd_deliver_attempt'] = df ['2nd_deliver_attempt'].fillna(0).astype(np.int64)\n",
    "            cols = ['pick', '1st_deliver_attempt', '2nd_deliver_attempt']\n",
    "            df [cols] = df [cols].applymap(lambda x: (x + GMT8_OFFSET) // DURATION_1DAY)\n",
    "            return df\n",
    "\n",
    "\n",
    "        def convert_working_days(df):\n",
    "            \"\"\"\n",
    "            Function to calculate the transit time\n",
    "            :param df: original df\n",
    "            :return: df with two new columns NUM_DAYS1 and NUM_DAYS2 as transit time\n",
    "            \"\"\"\n",
    "            t1 = df ['pick'].values.astype('datetime64[D]')\n",
    "            t2 = df ['1st_deliver_attempt'].values.astype('datetime64[D]')\n",
    "            t3 = df ['2nd_deliver_attempt'].values.astype('datetime64[D]')\n",
    "            return (df\n",
    "                    .assign(NUM_DAYS1=lambda x: np.busday_count(t1, t2, weekmask=WORKDAYS, holidays=HOLIDAYS),\n",
    "                            NUM_DAYS2=lambda x: np.busday_count(t2, t3, weekmask=WORKDAYS, holidays=HOLIDAYS))\n",
    "                    )\n",
    "\n",
    "        def computing_sla(df):\n",
    "            \"\"\"\n",
    "            Function to calculate the sla time\n",
    "            :param df: original df\n",
    "            :return: df with new sla column\n",
    "            \"\"\"\n",
    "            return (\n",
    "                df.assign(temp_col=lambda x: 4 * x.buyeraddress + x.selleraddress,\n",
    "                          sla1=lambda x: x.temp_col.map(map_to_dict))\n",
    "                .drop(columns=['temp_col']))\n",
    "\n",
    "\n",
    "        return (df.pipe(convert_address)\n",
    "                .pipe(convert_time_todate)\n",
    "                .pipe(convert_working_days)\n",
    "                .pipe(computing_sla)\n",
    "                )\n"
   ],
   "metadata": {
    "collapsed": false
   }
  },
  {
   "cell_type": "code",
   "execution_count": 10,
   "outputs": [
    {
     "name": "stdout",
     "output_type": "stream",
     "text": [
      "CPU times: user 27.3 s, sys: 1.92 s, total: 29.2 s\n",
      "Wall time: 57.8 s\n"
     ]
    }
   ],
   "source": [
    "%%time\n",
    "result = tweak_result(df)"
   ],
   "metadata": {
    "collapsed": false
   }
  },
  {
   "cell_type": "code",
   "execution_count": 21,
   "outputs": [
    {
     "name": "stdout",
     "output_type": "stream",
     "text": [
      "CPU times: user 635 ms, sys: 501 ms, total: 1.14 s\n",
      "Wall time: 3.74 s\n"
     ]
    }
   ],
   "source": [
    "%%time\n",
    "(\n",
    "    result\n",
    "        .assign(is_late = (result.NUM_DAYS1 > result.sla1) |( result.NUM_DAYS2 > 3))\n",
    "        .astype(int)\n",
    "        .loc[:, ['orderid', 'is_late']]\n",
    "        .to_csv('submission.csv', index=False)\n",
    ")"
   ],
   "metadata": {
    "collapsed": false
   }
  },
  {
   "cell_type": "markdown",
   "source": [],
   "metadata": {
    "collapsed": false
   }
  }
 ],
 "metadata": {
  "kernelspec": {
   "display_name": "Python 3 (ipykernel)",
   "language": "python",
   "name": "python3"
  },
  "language_info": {
   "codemirror_mode": {
    "name": "ipython",
    "version": 3
   },
   "file_extension": ".py",
   "mimetype": "text/x-python",
   "name": "python",
   "nbconvert_exporter": "python",
   "pygments_lexer": "ipython3",
   "version": "3.9.14"
  }
 },
 "nbformat": 4,
 "nbformat_minor": 1
}
